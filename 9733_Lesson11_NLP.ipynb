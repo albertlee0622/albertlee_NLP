{
 "cells": [
  {
   "cell_type": "markdown",
   "metadata": {},
   "source": [
    "# Albert Lee"
   ]
  },
  {
   "cell_type": "markdown",
   "metadata": {},
   "source": [
    "# Part 1. Sentiment Analysis"
   ]
  },
  {
   "cell_type": "markdown",
   "metadata": {},
   "source": [
    "### 1. First Model: Simple MLP with Bag-of-Words Vectorization"
   ]
  },
  {
   "cell_type": "code",
   "execution_count": 1,
   "metadata": {},
   "outputs": [
    {
     "name": "stdout",
     "output_type": "stream",
     "text": [
      "39366\n"
     ]
    }
   ],
   "source": [
    "from string import punctuation\n",
    "from os import listdir\n",
    "from collections import Counter\n",
    "from nltk.corpus import stopwords\n",
    "from nltk.stem import WordNetLemmatizer \n",
    "import os\n",
    "import time\n",
    "\n",
    "# load doc into memory\n",
    "def load_doc(filename):\n",
    "    # open the file as read only\n",
    "    file = open(filename, 'r')\n",
    "    # read all text\n",
    "    text = file.read()\n",
    "    # close the file\n",
    "    file.close()\n",
    "    return text\n",
    "\n",
    "# turn a doc into clean tokens\n",
    "def clean_doc(doc):\n",
    "    # split into tokens by white space\n",
    "    tokens = doc.split()\n",
    "    # remove punctuation from each token\n",
    "    table = str.maketrans('', '', punctuation)\n",
    "    tokens = [w.translate(table) for w in tokens]\n",
    "    # remove remaining tokens that are not alphabetic\n",
    "    tokens = [word for word in tokens if word.isalpha()]\n",
    "    # filter out stop words\n",
    "    stop_words = set(stopwords.words('english'))\n",
    "    tokens = [w for w in tokens if not w in stop_words]\n",
    "    # filter out short tokens\n",
    "    tokens = [word for word in tokens if len(word) > 1]\n",
    "    return tokens\n",
    "\n",
    "# lemmatization\n",
    "def lemmatization(tokens):\n",
    "    lemmatizer = WordNetLemmatizer() \n",
    "    lem_tokens = [lemmatizer.lemmatize(i) for i in tokens]\n",
    "    return lem_tokens\n",
    "        \n",
    "# load doc and add to vocab\n",
    "def add_doc_to_vocab(filename, vocab):\n",
    "    # load doc\n",
    "    doc = load_doc(filename)\n",
    "    # clean doc\n",
    "    tokens = clean_doc(doc)\n",
    "    #lemmatize tokens\n",
    "    tokens = lemmatization(tokens)  \n",
    "    # update counts\n",
    "    vocab.update(tokens)\n",
    "\n",
    "# load all docs in a directory\n",
    "def process_docs(directory, vocab):\n",
    "    # walk through all files in the folder\n",
    "    for filename in listdir(directory):\n",
    "        # skip any reviews in the test set\n",
    "        if filename.startswith('cv9'):\n",
    "            continue\n",
    "        # create the full path of the file to open\n",
    "        path = directory + '/' + filename\n",
    "        # add doc to vocab\n",
    "        add_doc_to_vocab(path, vocab)\n",
    "\n",
    "# define vocab\n",
    "vocab = Counter()\n",
    "# add all docs to vocab\n",
    "process_docs('review_polarity/txt_sentoken/pos', vocab)\n",
    "process_docs('review_polarity/txt_sentoken/neg', vocab)\n",
    "# print the size of the vocab\n",
    "print(len(vocab))\n",
    "# print the top words in the vocab"
   ]
  },
  {
   "cell_type": "code",
   "execution_count": 2,
   "metadata": {},
   "outputs": [],
   "source": [
    "# keep tokens with occurrence >=2\n",
    "min_occurrence = 2\n",
    "tokens = [k for k,c in vocab.items() if c >= min_occurrence]"
   ]
  },
  {
   "cell_type": "code",
   "execution_count": 3,
   "metadata": {},
   "outputs": [
    {
     "name": "stdout",
     "output_type": "stream",
     "text": [
      "22867\n"
     ]
    }
   ],
   "source": [
    "print(len(tokens))"
   ]
  },
  {
   "cell_type": "code",
   "execution_count": 4,
   "metadata": {},
   "outputs": [],
   "source": [
    "# save list to file\n",
    "def save_list(lines, filename):\n",
    "    # convert lines to a single blob of text\n",
    "    data = '\\n'.join(lines)\n",
    "    # open file\n",
    "    file = open(filename, 'w')\n",
    "    # write text\n",
    "    file.write(data)\n",
    "    # close file\n",
    "    file.close()\n",
    "\n",
    "# save tokens to a vocabulary file\n",
    "save_list(tokens, 'vocab.txt')"
   ]
  },
  {
   "cell_type": "code",
   "execution_count": 5,
   "metadata": {},
   "outputs": [],
   "source": [
    "import numpy as np\n",
    "import matplotlib.pyplot as plt\n",
    "import pandas as pd\n",
    "from numpy import array\n",
    "from string import punctuation\n",
    "from os import listdir\n",
    "from collections import Counter\n",
    "from nltk.corpus import stopwords\n",
    "from tensorflow.keras.preprocessing.text import Tokenizer\n",
    "from tensorflow.keras.models import Sequential\n",
    "from tensorflow.keras.layers import Dense\n",
    "from tensorflow.keras.layers import Dropout\n",
    "from pandas import DataFrame\n",
    "from matplotlib import pyplot\n",
    "\n",
    "\n",
    "# load doc, clean and return line of tokens\n",
    "def doc_to_line(filename, vocab):\n",
    "    # load the doc\n",
    "    doc = load_doc(filename)\n",
    "    # clean doc\n",
    "    tokens = clean_doc(doc)\n",
    "    tokens = lemmatization(tokens)\n",
    "    # filter by vocab\n",
    "    tokens = [w for w in tokens if w in vocab]\n",
    "    return ' '.join(tokens)\n",
    "\n",
    "# load all docs in a directory\n",
    "def process_docs(directory, vocab, is_trian):\n",
    "    lines = list()\n",
    "    # walk through all files in the folder\n",
    "    for filename in listdir(directory):\n",
    "        # skip any reviews in the test set\n",
    "        if is_trian and filename.startswith('cv9'):\n",
    "            continue\n",
    "        if not is_trian and not filename.startswith('cv9'):\n",
    "            continue\n",
    "        # create the full path of the file to open\n",
    "        path = directory + '/' + filename\n",
    "        # load and clean the doc\n",
    "        line = doc_to_line(path, vocab)\n",
    "        # add to list\n",
    "        lines.append(line)\n",
    "    return lines\n",
    "\n",
    "# evaluate a neural network model\n",
    "def evaluate_mode(Xtrain, ytrain, Xtest, ytest):\n",
    "    scores = list()\n",
    "    n_repeats = 5\n",
    "    n_words = Xtest.shape[1]\n",
    "    for i in range(n_repeats):\n",
    "        # define network\n",
    "        model = Sequential()\n",
    "        model.add(Dense(50, input_shape=(n_words,), activation='relu'))\n",
    "        model.add(Dense(1, activation='sigmoid'))\n",
    "        # compile network\n",
    "        model.compile(loss='binary_crossentropy', optimizer='adam', metrics=['accuracy'])\n",
    "        # fit network\n",
    "        model.fit(Xtrain, ytrain, epochs=50, verbose=0)\n",
    "        # evaluate\n",
    "        loss, acc = model.evaluate(Xtest, ytest, verbose=0)\n",
    "        scores.append(acc)\n",
    "    return scores\n",
    "\n",
    "# prepare bag of words encoding of docs\n",
    "def prepare_data(train_docs, test_docs, mode):\n",
    "    # create the tokenizer\n",
    "    tokenizer = Tokenizer()\n",
    "    # fit the tokenizer on the documents\n",
    "    tokenizer.fit_on_texts(train_docs)\n",
    "    # encode training data set\n",
    "    Xtrain = tokenizer.texts_to_matrix(train_docs, mode=mode)\n",
    "    # encode training data set\n",
    "    Xtest = tokenizer.texts_to_matrix(test_docs, mode=mode)\n",
    "    return Xtrain, Xtest\n",
    "\n",
    "# load the vocabulary\n",
    "vocab_filename = 'vocab.txt'\n",
    "vocab = load_doc(vocab_filename)\n",
    "vocab = vocab.split()\n",
    "vocab = set(vocab)\n",
    "\n",
    "start = time.time()\n",
    "# load all training reviews\n",
    "positive_lines = process_docs('review_polarity/txt_sentoken/pos', vocab, True)\n",
    "negative_lines = process_docs('review_polarity/txt_sentoken/neg', vocab, True)\n",
    "train_docs = negative_lines + positive_lines\n",
    "# load all test reviews\n",
    "positive_lines = process_docs('review_polarity/txt_sentoken/pos', vocab, False)\n",
    "negative_lines = process_docs('review_polarity/txt_sentoken/neg', vocab, False)\n",
    "test_docs = negative_lines + positive_lines\n",
    "# prepare labels\n",
    "ytrain = array([0 for _ in range(900)] + [1 for _ in range(900)])\n",
    "ytest = array([0 for _ in range(100)] + [1 for _ in range(100)])"
   ]
  },
  {
   "cell_type": "code",
   "execution_count": 6,
   "metadata": {},
   "outputs": [
    {
     "name": "stdout",
     "output_type": "stream",
     "text": [
      "Runtime ( binary ) 190.15 sec\n",
      "Runtime ( tfidf ) 382.19 sec\n",
      "Runtime ( freq ) 580.47 sec\n",
      "\n",
      "\n",
      "         binary     tfidf      freq\n",
      "count  5.000000  5.000000  5.000000\n",
      "mean   0.912000  0.850000  0.907000\n",
      "std    0.008367  0.018708  0.004472\n",
      "min    0.905000  0.825000  0.900000\n",
      "25%    0.905000  0.845000  0.905000\n",
      "50%    0.910000  0.845000  0.910000\n",
      "75%    0.915000  0.860000  0.910000\n",
      "max    0.925000  0.875000  0.910000\n"
     ]
    },
    {
     "data": {
      "text/plain": [
       "<matplotlib.axes._subplots.AxesSubplot at 0x28ed02a9be0>"
      ]
     },
     "execution_count": 6,
     "metadata": {},
     "output_type": "execute_result"
    },
    {
     "data": {
      "image/png": "[encoded data removed]",
      "text/plain": [
       "<Figure size 432x288 with 1 Axes>"
      ]
     },
     "metadata": {
      "needs_background": "light"
     },
     "output_type": "display_data"
    }
   ],
   "source": [
    "modes = ['binary', 'tfidf', 'freq']\n",
    "results = DataFrame()\n",
    "for mode in modes:\n",
    "    # prepare data for mode\n",
    "    Xtrain, Xtest = prepare_data(train_docs, test_docs, mode)\n",
    "    # evaluate model on data for mode\n",
    "    results[mode] = evaluate_mode(Xtrain, ytrain, Xtest, ytest)\n",
    "    end = time.time()\n",
    "    print(\"Runtime (\",mode,\")\", \"{0:.2f}\".format((end - start)), 'sec')\n",
    "# summarize results\n",
    "print(\"\\n\")\n",
    "print(results.describe())\n",
    "# plot results\n",
    "results.boxplot()"
   ]
  },
  {
   "cell_type": "markdown",
   "metadata": {},
   "source": [
    "### 2. Second Model: CNN with Word2Vec Embedding"
   ]
  },
  {
   "cell_type": "code",
   "execution_count": 7,
   "metadata": {},
   "outputs": [],
   "source": [
    "from tensorflow.keras.preprocessing.sequence import pad_sequences\n",
    "from tensorflow.keras.layers import Flatten\n",
    "from tensorflow.keras.layers import Embedding\n",
    "from tensorflow.keras.layers import Conv1D\n",
    "from tensorflow.keras.layers import MaxPooling1D\n",
    "\n",
    "tokenizer = Tokenizer()\n",
    "# fit the tokenizer on the documents\n",
    "tokenizer.fit_on_texts(train_docs)\n",
    "# sequence encode\n",
    "encoded_docs = tokenizer.texts_to_sequences(train_docs)\n",
    "# pad sequences\n",
    "max_length = max([len(s.split()) for s in train_docs])\n",
    "Xtrain = pad_sequences(encoded_docs, maxlen=max_length, padding='post')\n",
    "\n",
    "encoded_docs = tokenizer.texts_to_sequences(test_docs)\n",
    "# pad sequences\n",
    "Xtest = pad_sequences(encoded_docs, maxlen=max_length, padding='post')\n",
    "\n",
    "# define vocabulary size (largest integer value)\n",
    "vocab_size = len(tokenizer.word_index) + 1"
   ]
  },
  {
   "cell_type": "code",
   "execution_count": 8,
   "metadata": {},
   "outputs": [
    {
     "name": "stdout",
     "output_type": "stream",
     "text": [
      "Test Accuracy: 79.000002\n",
      "Runtime (Word2Vec): 109.85 sec\n",
      "Test Accuracy: 85.500002\n",
      "Runtime (Word2Vec): 135.48 sec\n",
      "Test Accuracy: 86.000001\n",
      "Runtime (Word2Vec): 174.81 sec\n",
      "Test Accuracy: 84.500003\n",
      "Runtime (Word2Vec): 186.28 sec\n"
     ]
    }
   ],
   "source": [
    "# define model\n",
    "grid = [5, 10, 15, 20]\n",
    "\n",
    "for i in grid:\n",
    "    model = Sequential()\n",
    "    model.add(Embedding(vocab_size, i, input_length=max_length))\n",
    "    model.add(Conv1D(filters=32, kernel_size=8, activation='relu'))\n",
    "    model.add(MaxPooling1D(pool_size=2))\n",
    "    model.add(Flatten())\n",
    "    model.add(Dense(30, activation='relu'))\n",
    "    model.add(Dense(1, activation='sigmoid'))\n",
    "\n",
    "    # compile network\n",
    "    model.compile(loss='binary_crossentropy', optimizer='adam', metrics=['accuracy'])\n",
    "    # fit network\n",
    "    start = time.time()\n",
    "    model.fit(Xtrain, ytrain, epochs=50, verbose=0)\n",
    "    # evaluate\n",
    "    loss, acc = model.evaluate(Xtest, ytest, verbose=0)\n",
    "    print('Test Accuracy: %f' % (acc*100))\n",
    "    end = time.time()\n",
    "    print(\"Runtime (Word2Vec):\", \"{0:.2f}\".format((end - start)), 'sec')"
   ]
  },
  {
   "cell_type": "markdown",
   "metadata": {},
   "source": [
    "### 3. Report:\n",
    "We constructed our corpus with training data set (90% of the data) handling tokenization, lemmatization with NLTK package and dropped the terms that appear only once in the documents to remove noise.  \n",
    "**For our first model,** we used back-of-words to verctorize documents and constructed simple MLP. In order to select the optimal scoring method, we trained the model with binary, tfidf, and frequency methods. Also, since simple MLP may produce significantly different results in terms of evaluation metric, we trained the model 5 times for each scoring method and calculated statistic (mean accuracy, spread, and runtime) for careful comparison. We chose to have 50 nodes and Relu as the activation in the hidden layer because Relu is computationally efficient and the sigmoid for the output layer because the sigmoid is usually powerful in binary classification. As a result, binary scoring method turned out to be the best among the three metohds, for it produced the highest average accuracy score. Although, frequency scoring method also produced as a high average as the binary and showed lower variation, but its computional cost seems to be noticeably higher for its slight advantage over the binary method. Since the size of our training samples was only 1800, it should be reasonable to give importance to the runtime, so we think that the binary scoring can be the best method for the BoW model for this case.\n",
    "**For our second model,** we chose to construct CNN with Word2Vec with the expectation that the accuracy score can improve significantly with capturing spatial relationship of the words. We used grid-search method to try several dimensions for embedding (5, 10, 15, 20). CNN is construced with Relu activation for the hidden layer and the sigmoid for the output layer for easier understanding of comparison with our first model since activation function can have a large impact on the results. The result didn't match our exectation because the model produces significantly lower test accuracy than that of our first model. We can try to improve the model by changing dimensions for embedding, the number of layers and the number of nodes in the hidden layer, or activation functions; howevver, **based on the current results,** we conclude that the simple MLP with BoW can be a better choice for this case. A possible reason we can think of is that for this sentiment analysis of binary classification, relationships between words (or context) may not play a significant role for identifying positive or negative signals. For example, capturing terms with positive meanings, such as wonderful, exciting, or inspring which are not usually written with negative helping verbs, can be just enough to predict the correct label.     "
   ]
  },
  {
   "cell_type": "markdown",
   "metadata": {},
   "source": [
    "# Part 2. Topic Modeling"
   ]
  },
  {
   "cell_type": "code",
   "execution_count": 9,
   "metadata": {},
   "outputs": [],
   "source": [
    "from nltk import word_tokenize, pos_tag, FreqDist\n",
    "import seaborn as sns\n",
    "%matplotlib inline"
   ]
  },
  {
   "cell_type": "code",
   "execution_count": 10,
   "metadata": {},
   "outputs": [
    {
     "name": "stdout",
     "output_type": "stream",
     "text": [
      "2000\n"
     ]
    }
   ],
   "source": [
    "doc = train_docs + test_docs\n",
    "print(len(doc))"
   ]
  },
  {
   "cell_type": "code",
   "execution_count": 11,
   "metadata": {},
   "outputs": [
    {
     "name": "stdout",
     "output_type": "stream",
     "text": [
      "['happy', 'bastard', 'quick', 'movie', 'review', 'damn', 'bug', 'got', 'head', 'start', 'movie', 'starring', 'jamie', 'lee', 'curtis', 'another', 'baldwin', 'brother', 'william', 'time', 'story', 'regarding', 'crew', 'tugboat', 'come', 'across', 'deserted', 'russian', 'tech', 'ship', 'strangeness', 'kick', 'power', 'back', 'little', 'know', 'power', 'within', 'going', 'gore', 'bringing', 'action', 'sequence', 'virus', 'still', 'feel', 'empty', 'like', 'movie', 'going', 'flash', 'substance', 'dont', 'know', 'crew', 'really', 'middle', 'nowhere', 'dont', 'know', 'origin', 'took', 'ship', 'big', 'pink', 'flashy', 'thing', 'hit', 'mir', 'course', 'dont', 'know', 'donald', 'sutherland', 'stumbling', 'around', 'drunkenly', 'throughout', 'hey', 'let', 'chase', 'people', 'around', 'robot', 'acting', 'average', 'even', 'like', 'curtis', 'youre', 'likely', 'get', 'kick', 'work', 'halloween', 'sutherland', 'wasted', 'baldwin', 'well', 'he', 'acting', 'like', 'baldwin', 'course', 'real', 'star', 'stan', 'robot', 'design', 'cgi', 'occasional', 'good', 'gore', 'shot', 'like', 'picking', 'someone', 'brain', 'robot', 'body', 'part', 'really', 'turn', 'here', 'movie', 'otherwise', 'pretty', 'much', 'sunken', 'ship', 'movie']\n"
     ]
    }
   ],
   "source": [
    "texts = pd.Series(doc).apply(lambda x: x.split())\n",
    "print(texts[1])"
   ]
  },
  {
   "cell_type": "code",
   "execution_count": 12,
   "metadata": {},
   "outputs": [
    {
     "name": "stderr",
     "output_type": "stream",
     "text": [
      "unable to import 'smart_open.gcs', disabling that module\n"
     ]
    }
   ],
   "source": [
    "import gensim\n",
    "from gensim import corpora\n",
    "from gensim.models.coherencemodel import CoherenceModel"
   ]
  },
  {
   "cell_type": "code",
   "execution_count": 13,
   "metadata": {},
   "outputs": [],
   "source": [
    "bigram = gensim.models.Phrases(texts, min_count=5, threshold=10)\n",
    "bigram_mod = gensim.models.phrases.Phraser(bigram)\n",
    "dic = [bigram_mod[i] for i in texts]"
   ]
  },
  {
   "cell_type": "code",
   "execution_count": 14,
   "metadata": {},
   "outputs": [],
   "source": [
    "dictionary = corpora.Dictionary(dic)\n",
    "doc_term_matrix = [dictionary.doc2bow(i) for i in dic]"
   ]
  },
  {
   "cell_type": "code",
   "execution_count": 15,
   "metadata": {},
   "outputs": [],
   "source": [
    "# Creating the object for LDA model using gensim library\n",
    "LDA = gensim.models.ldamodel.LdaModel\n",
    "\n",
    "# Build LDA model\n",
    "lda_model = LDA(corpus=doc_term_matrix, id2word=dictionary, num_topics=5, random_state=100, update_every=1, chunksize=100, passes=50)"
   ]
  },
  {
   "cell_type": "code",
   "execution_count": 16,
   "metadata": {},
   "outputs": [
    {
     "data": {
      "text/plain": [
       "[(0,\n",
       "  '0.009*\"film\" + 0.005*\"american\" + 0.004*\"war\" + 0.004*\"action\" + 0.003*\"also\" + 0.003*\"men\" + 0.003*\"king\" + 0.003*\"story\" + 0.003*\"political\" + 0.002*\"however\"'),\n",
       " (1,\n",
       "  '0.009*\"comedy\" + 0.007*\"funny\" + 0.005*\"disney\" + 0.004*\"kid\" + 0.004*\"scream\" + 0.004*\"joke\" + 0.003*\"high_school\" + 0.003*\"laugh\" + 0.003*\"song\" + 0.003*\"humor\"'),\n",
       " (2,\n",
       "  '0.013*\"film\" + 0.006*\"alien\" + 0.004*\"human\" + 0.004*\"world\" + 0.004*\"one\" + 0.003*\"special_effect\" + 0.003*\"ship\" + 0.003*\"new\" + 0.002*\"star_war\" + 0.002*\"series\"'),\n",
       " (3,\n",
       "  '0.010*\"life\" + 0.007*\"film\" + 0.005*\"character\" + 0.005*\"story\" + 0.005*\"one\" + 0.004*\"love\" + 0.003*\"performance\" + 0.003*\"man\" + 0.003*\"wife\" + 0.003*\"woman\"'),\n",
       " (4,\n",
       "  '0.025*\"film\" + 0.020*\"movie\" + 0.014*\"one\" + 0.009*\"character\" + 0.008*\"like\" + 0.007*\"get\" + 0.006*\"make\" + 0.006*\"time\" + 0.006*\"even\" + 0.006*\"good\"')]"
      ]
     },
     "execution_count": 16,
     "metadata": {},
     "output_type": "execute_result"
    }
   ],
   "source": [
    "lda_model.print_topics()"
   ]
  },
  {
   "cell_type": "code",
   "execution_count": 17,
   "metadata": {},
   "outputs": [
    {
     "name": "stderr",
     "output_type": "stream",
     "text": [
      "C:\\Users\\alee8\\Anaconda3\\lib\\site-packages\\pyLDAvis\\_prepare.py:257: FutureWarning: Sorting because non-concatenation axis is not aligned. A future version\n",
      "of pandas will change to not sort by default.\n",
      "\n",
      "To accept the future behavior, pass 'sort=False'.\n",
      "\n",
      "To retain the current behavior and silence the warning, pass 'sort=True'.\n",
      "\n",
      "  return pd.concat([default_term_info] + list(topic_dfs))\n"
     ]
    },
    {
     "data": {
      "text/html": [
       "\n",
       "<link rel=\"stylesheet\" type=\"text/css\" href=\"https://cdn.rawgit.com/bmabey/pyLDAvis/files/ldavis.v1.0.0.css\">\n",
       "\n",
       "\n",
       "<div id=\"ldavis_el1197228114835275924990549768\"></div>\n",
       "<script type=\"text/javascript\">\n",
       "\n",
       "var ldavis_el1197228114835275924990549768_data = {\"mdsDat\": {\"x\": [0.21795686574466908, 0.1159976114362592, 0.02958400448046076, -0.08832874900815789, -0.2752097326532309], \"y\": [0.11004144835178654, 0.06491223928677858, -0.11316211821347388, -0.2417143023511295, 0.17992273292603822], \"topics\": [1, 2, 3, 4, 5], \"cluster\": [1, 1, 1, 1, 1], \"Freq\": [52.04338455200195, 16.9002628326416, 14.174899101257324, 8.983899116516113, 7.897560119628906]}, \"tinfo\": {\"Category\": [\"Default\", \"Default\", \"Default\", \"Default\", \"Default\", \"Default\", \"Default\", \"Default\", \"Default\", \"Default\", \"Default\", \"Default\", \"Default\", \"Default\", \"Default\", \"Default\", \"Default\", \"Default\", \"Default\", \"Default\", \"Default\", \"Default\", \"Default\", \"Default\", \"Default\", \"Default\", \"Default\", \"Default\", \"Default\", \"Default\", \"Topic1\", \"Topic1\", \"Topic1\", \"Topic1\", \"Topic1\", \"Topic1\", \"Topic1\", \"Topic1\", \"Topic1\", \"Topic1\", \"Topic1\", \"Topic1\", \"Topic1\", \"Topic1\", \"Topic1\", \"Topic1\", \"Topic1\", \"Topic1\", \"Topic1\", \"Topic1\", \"Topic1\", \"Topic1\", \"Topic1\", \"Topic1\", \"Topic1\", \"Topic1\", \"Topic1\", \"Topic1\", \"Topic1\", \"Topic1\", \"Topic1\", \"Topic1\", \"Topic1\", \"Topic1\", \"Topic1\", \"Topic1\", \"Topic1\", \"Topic1\", \"Topic1\", \"Topic1\", \"Topic1\", \"Topic1\", \"Topic1\", \"Topic1\", \"Topic1\", \"Topic1\", \"Topic1\", \"Topic1\", \"Topic1\", \"Topic1\", \"Topic1\", \"Topic1\", \"Topic1\", \"Topic1\", \"Topic1\", \"Topic1\", \"Topic1\", \"Topic1\", \"Topic1\", \"Topic1\", \"Topic1\", \"Topic1\", \"Topic2\", \"Topic2\", \"Topic2\", \"Topic2\", \"Topic2\", \"Topic2\", \"Topic2\", \"Topic2\", \"Topic2\", \"Topic2\", \"Topic2\", \"Topic2\", \"Topic2\", \"Topic2\", \"Topic2\", \"Topic2\", \"Topic2\", \"Topic2\", \"Topic2\", \"Topic2\", \"Topic2\", \"Topic2\", \"Topic2\", \"Topic2\", \"Topic2\", \"Topic2\", \"Topic2\", \"Topic2\", \"Topic2\", \"Topic2\", \"Topic2\", \"Topic2\", \"Topic2\", \"Topic2\", \"Topic2\", \"Topic2\", \"Topic2\", \"Topic2\", \"Topic2\", \"Topic2\", \"Topic2\", \"Topic2\", \"Topic2\", \"Topic2\", \"Topic2\", \"Topic2\", \"Topic2\", \"Topic2\", \"Topic2\", \"Topic2\", \"Topic2\", \"Topic2\", \"Topic2\", \"Topic2\", \"Topic2\", \"Topic2\", \"Topic2\", \"Topic2\", \"Topic2\", \"Topic2\", \"Topic2\", \"Topic2\", \"Topic2\", \"Topic2\", \"Topic2\", \"Topic2\", \"Topic2\", \"Topic2\", \"Topic2\", \"Topic2\", \"Topic2\", \"Topic2\", \"Topic2\", \"Topic2\", \"Topic2\", \"Topic2\", \"Topic2\", \"Topic2\", \"Topic2\", \"Topic2\", \"Topic2\", \"Topic2\", \"Topic2\", \"Topic2\", \"Topic3\", \"Topic3\", \"Topic3\", \"Topic3\", \"Topic3\", \"Topic3\", \"Topic3\", \"Topic3\", \"Topic3\", \"Topic3\", \"Topic3\", \"Topic3\", \"Topic3\", \"Topic3\", \"Topic3\", \"Topic3\", \"Topic3\", \"Topic3\", \"Topic3\", \"Topic3\", \"Topic3\", \"Topic3\", \"Topic3\", \"Topic3\", \"Topic3\", \"Topic3\", \"Topic3\", \"Topic3\", \"Topic3\", \"Topic3\", \"Topic3\", \"Topic3\", \"Topic3\", \"Topic3\", \"Topic3\", \"Topic3\", \"Topic3\", \"Topic3\", \"Topic3\", \"Topic3\", \"Topic3\", \"Topic3\", \"Topic3\", \"Topic3\", \"Topic3\", \"Topic3\", \"Topic3\", \"Topic3\", \"Topic3\", \"Topic3\", \"Topic3\", \"Topic3\", \"Topic3\", \"Topic3\", \"Topic3\", \"Topic3\", \"Topic3\", \"Topic3\", \"Topic3\", \"Topic3\", \"Topic3\", \"Topic3\", \"Topic3\", \"Topic3\", \"Topic4\", \"Topic4\", \"Topic4\", \"Topic4\", \"Topic4\", \"Topic4\", \"Topic4\", \"Topic4\", \"Topic4\", \"Topic4\", \"Topic4\", \"Topic4\", \"Topic4\", \"Topic4\", \"Topic4\", \"Topic4\", \"Topic4\", \"Topic4\", \"Topic4\", \"Topic4\", \"Topic4\", \"Topic4\", \"Topic4\", \"Topic4\", \"Topic4\", \"Topic4\", \"Topic4\", \"Topic4\", \"Topic4\", \"Topic4\", \"Topic4\", \"Topic4\", \"Topic4\", \"Topic4\", \"Topic4\", \"Topic4\", \"Topic4\", \"Topic4\", \"Topic4\", \"Topic4\", \"Topic4\", \"Topic4\", \"Topic4\", \"Topic4\", \"Topic4\", \"Topic4\", \"Topic4\", \"Topic4\", \"Topic4\", \"Topic4\", \"Topic4\", \"Topic4\", \"Topic4\", \"Topic4\", \"Topic4\", \"Topic4\", \"Topic4\", \"Topic4\", \"Topic4\", \"Topic4\", \"Topic4\", \"Topic5\", \"Topic5\", \"Topic5\", \"Topic5\", \"Topic5\", \"Topic5\", \"Topic5\", \"Topic5\", \"Topic5\", \"Topic5\", \"Topic5\", \"Topic5\", \"Topic5\", \"Topic5\", \"Topic5\", \"Topic5\", \"Topic5\", \"Topic5\", \"Topic5\", \"Topic5\", \"Topic5\", \"Topic5\", \"Topic5\", \"Topic5\", \"Topic5\", \"Topic5\", \"Topic5\", \"Topic5\", \"Topic5\", \"Topic5\", \"Topic5\", \"Topic5\", \"Topic5\", \"Topic5\", \"Topic5\", \"Topic5\", \"Topic5\", \"Topic5\", \"Topic5\", \"Topic5\", \"Topic5\", \"Topic5\", \"Topic5\", \"Topic5\", \"Topic5\", \"Topic5\", \"Topic5\", \"Topic5\", \"Topic5\", \"Topic5\", \"Topic5\", \"Topic5\", \"Topic5\", \"Topic5\", \"Topic5\", \"Topic5\", \"Topic5\", \"Topic5\", \"Topic5\", \"Topic5\", \"Topic5\"], \"Freq\": [6578.0, 1634.0, 10782.0, 653.0, 716.0, 2004.0, 2384.0, 3447.0, 1551.0, 495.0, 1491.0, 1332.0, 478.0, 2843.0, 722.0, 2192.0, 823.0, 932.0, 464.0, 1082.0, 367.0, 365.0, 1921.0, 246.0, 629.0, 320.0, 300.0, 1652.0, 1974.0, 359.0, 2003.398193359375, 1550.31201171875, 1490.660400390625, 1331.4071044921875, 1082.025146484375, 957.0078735351562, 782.5875854492188, 782.5158081054688, 735.3618774414062, 728.984375, 727.0038452148438, 698.3825073242188, 693.862060546875, 673.4151611328125, 647.676513671875, 591.0426635742188, 582.696533203125, 567.9320678710938, 768.1980590820312, 449.15338134765625, 447.0854797363281, 444.24774169921875, 427.3182373046875, 382.5094299316406, 375.6742858886719, 343.6775817871094, 329.9891662597656, 319.9415588378906, 318.20611572265625, 307.38616943359375, 6562.63916015625, 2342.663330078125, 465.4197998046875, 407.1514892578125, 2704.126953125, 501.7486877441406, 1068.7337646484375, 518.7456665039062, 1332.2545166015625, 2009.022705078125, 1223.3560791015625, 1526.8128662109375, 4738.958984375, 1709.4766845703125, 771.9188232421875, 8301.3759765625, 2091.661376953125, 2824.164794921875, 1862.4158935546875, 2036.219970703125, 1446.7904052734375, 1588.70263671875, 1003.3965454101562, 1435.569091796875, 962.0454711914062, 1035.26123046875, 1056.3258056640625, 1204.4794921875, 1000.8649291992188, 1216.482666015625, 996.8756713867188, 1014.40869140625, 241.67970275878906, 117.30198669433594, 95.89637756347656, 85.63505554199219, 74.9094009399414, 55.700233459472656, 54.733558654785156, 51.99616622924805, 50.625282287597656, 50.50375747680664, 46.79972839355469, 47.481956481933594, 46.77309036254883, 45.63582229614258, 46.958866119384766, 44.48162078857422, 44.914939880371094, 43.86518859863281, 43.440670013427734, 40.81690979003906, 41.722835540771484, 41.60321807861328, 39.17543029785156, 39.66843032836914, 40.577213287353516, 37.44612121582031, 37.017154693603516, 36.37473678588867, 35.85662841796875, 35.52993392944336, 80.7649917602539, 103.50485229492188, 60.44075393676758, 75.37146759033203, 56.322208404541016, 62.19209289550781, 1026.37841796875, 89.31918334960938, 85.99818420410156, 107.19340515136719, 301.46734619140625, 129.3345489501953, 171.7021484375, 317.8420715332031, 447.4035339355469, 148.49307250976562, 235.13818359375, 271.5976257324219, 133.10231018066406, 317.6509704589844, 90.00042724609375, 143.33612060546875, 86.05498504638672, 85.89817810058594, 178.81861877441406, 172.89894104003906, 97.3678207397461, 278.9298095703125, 538.5237426757812, 371.9798583984375, 115.98981475830078, 203.42515563964844, 144.74838256835938, 349.2505798339844, 143.45584106445312, 562.3173217773438, 161.38230895996094, 286.6182556152344, 174.23138427734375, 746.584716796875, 486.9121398925781, 231.12551879882812, 234.58258056640625, 188.62440490722656, 246.77391052246094, 191.42576599121094, 229.5210418701172, 242.76217651367188, 253.39483642578125, 215.3834991455078, 242.73394775390625, 197.8909149169922, 206.47543334960938, 193.85964965820312, 494.4886169433594, 269.8843688964844, 220.73033142089844, 188.56884765625, 162.7522430419922, 148.862548828125, 128.73605346679688, 125.27476501464844, 123.58760833740234, 109.36103820800781, 103.45938873291016, 101.54947662353516, 100.6603012084961, 89.86605072021484, 89.88835144042969, 84.56256103515625, 82.50011444091797, 81.8232192993164, 78.04022216796875, 76.40800476074219, 75.6672134399414, 73.15108489990234, 71.52157592773438, 72.30058288574219, 70.263671875, 69.63229370117188, 67.74627685546875, 65.00890350341797, 65.24639129638672, 66.87714385986328, 65.87532043457031, 189.9772491455078, 131.13282775878906, 302.22882080078125, 379.0477600097656, 97.65055084228516, 110.13349151611328, 179.60951232910156, 89.05903625488281, 91.736328125, 109.01014709472656, 124.03192901611328, 369.9183654785156, 220.06878662109375, 153.35162353515625, 1209.06689453125, 186.46424865722656, 168.3867645263672, 114.40506744384766, 257.77886962890625, 218.63870239257812, 171.41697692871094, 139.40078735351562, 322.77392578125, 126.26839447021484, 211.57957458496094, 175.62222290039062, 177.52210998535156, 179.11708068847656, 160.11700439453125, 173.82260131835938, 150.58212280273438, 135.6124267578125, 133.13885498046875, 156.29298400878906, 122.68541717529297, 110.93346405029297, 97.65065002441406, 96.76960754394531, 91.03860473632812, 82.47521209716797, 76.94131469726562, 72.98697662353516, 75.06707000732422, 70.56096649169922, 67.78314971923828, 68.4370346069336, 68.321533203125, 66.69036865234375, 61.78857421875, 59.36480712890625, 60.49327087402344, 56.050567626953125, 54.153175354003906, 49.061038970947266, 47.00809097290039, 46.25224685668945, 48.13360595703125, 46.824893951416016, 45.1989860534668, 45.632652282714844, 48.32609558105469, 44.575599670410156, 43.76608657836914, 45.26354217529297, 44.997291564941406, 252.27586364746094, 261.20672607421875, 129.484619140625, 123.66693878173828, 167.35960388183594, 129.8467559814453, 184.08465576171875, 65.51312255859375, 90.97821807861328, 123.9695053100586, 101.06470489501953, 96.38262939453125, 240.50498962402344, 111.6297607421875, 78.3799819946289, 525.285400390625, 108.45548248291016, 100.6032943725586, 98.90850067138672, 105.86180114746094, 117.0022964477539, 187.7591094970703, 139.67796325683594, 156.34185791015625, 101.3892822265625, 100.53323364257812, 114.35803985595703, 110.44003295898438, 103.77669525146484, 246.25192260742188, 109.61914825439453, 89.39132690429688, 88.26200866699219, 87.37936401367188, 66.85201263427734, 65.33413696289062, 62.28706359863281, 61.1150016784668, 60.87886428833008, 58.84992218017578, 50.56846237182617, 51.356998443603516, 49.960060119628906, 49.713863372802734, 46.67914962768555, 45.79289627075195, 44.99823760986328, 49.20076370239258, 47.179466247558594, 44.922142028808594, 43.3563117980957, 43.50164031982422, 43.1996955871582, 41.489768981933594, 42.33346176147461, 42.3834342956543, 40.808712005615234, 41.831886291503906, 39.91559600830078, 40.11882019042969, 171.14251708984375, 47.45363235473633, 433.16778564453125, 107.53821563720703, 109.41064453125, 197.72012329101562, 149.3842315673828, 75.69241333007812, 165.10833740234375, 355.0118713378906, 139.0855712890625, 177.80711364746094, 81.0391845703125, 163.44305419921875, 97.09003448486328, 97.79936981201172, 96.65252685546875, 163.724853515625, 203.3144989013672, 167.03224182128906, 89.0936050415039, 77.77269744873047, 153.5281219482422, 145.89971923828125, 95.70123291015625, 106.59012603759766, 98.19245147705078, 81.21149444580078, 94.313720703125, 85.30260467529297], \"Term\": [\"movie\", \"life\", \"film\", \"comedy\", \"funny\", \"good\", \"get\", \"character\", \"well\", \"alien\", \"thing\", \"really\", \"kid\", \"like\", \"action\", \"even\", \"love\", \"world\", \"human\", \"know\", \"laugh\", \"american\", \"story\", \"disney\", \"family\", \"humor\", \"joke\", \"see\", \"also\", \"special_effect\", \"good\", \"well\", \"thing\", \"really\", \"know\", \"say\", \"bad\", \"think\", \"going\", \"better\", \"isnt\", \"dont\", \"thats\", \"lot\", \"course\", \"acting\", \"least\", \"kind\", \"actually\", \"didnt\", \"watching\", \"cant\", \"ending\", \"thought\", \"sure\", \"im\", \"either\", \"said\", \"anyone\", \"got\", \"movie\", \"get\", \"minute\", \"name\", \"like\", \"reason\", \"plot\", \"anything\", \"go\", \"even\", \"people\", \"see\", \"one\", \"would\", \"fact\", \"film\", \"make\", \"character\", \"scene\", \"time\", \"way\", \"also\", \"great\", \"much\", \"he\", \"could\", \"little\", \"first\", \"actor\", \"two\", \"come\", \"story\", \"husband\", \"lawyer\", \"simon\", \"desire\", \"anna\", \"alice\", \"portrait\", \"seth\", \"disco\", \"karen\", \"bulworth\", \"innocence\", \"gattaca\", \"afraid\", \"intellectual\", \"libby\", \"marie\", \"revelation\", \"identify\", \"lucy\", \"jewish\", \"session\", \"flynt\", \"sympathy\", \"cameron_diaz\", \"nelson\", \"midnight\", \"poker\", \"narrator\", \"exotica\", \"marriage\", \"apartment\", \"hospital\", \"tragedy\", \"gift\", \"elizabeth\", \"life\", \"beauty\", \"gay\", \"sexual\", \"relationship\", \"sister\", \"daughter\", \"wife\", \"love\", \"emotional\", \"mother\", \"child\", \"jack\", \"woman\", \"pain\", \"novel\", \"artist\", \"mike\", \"house\", \"son\", \"romantic\", \"family\", \"story\", \"performance\", \"drug\", \"father\", \"beautiful\", \"man\", \"heart\", \"character\", \"sex\", \"work\", \"becomes\", \"film\", \"one\", \"world\", \"find\", \"begin\", \"two\", \"without\", \"take\", \"way\", \"scene\", \"play\", \"make\", \"director\", \"much\", \"never\", \"alien\", \"ship\", \"star_war\", \"vampire\", \"crew\", \"monster\", \"science_fiction\", \"horror_film\", \"creature\", \"computer\", \"scifi\", \"scientist\", \"phantom_menace\", \"lucas\", \"whale\", \"specie\", \"gore\", \"batman\", \"science\", \"technology\", \"bat\", \"comic_book\", \"xfiles\", \"trilogy\", \"robot\", \"blade\", \"starship_trooper\", \"survivor\", \"virus\", \"knowledge\", \"cameron\", \"horror\", \"planet\", \"special_effect\", \"human\", \"godzilla\", \"star_trek\", \"earth\", \"visuals\", \"military\", \"titanic\", \"scary\", \"world\", \"series\", \"sequel\", \"film\", \"evil\", \"effect\", \"government\", \"new\", \"original\", \"death\", \"power\", \"one\", \"dark\", \"story\", \"year\", \"many\", \"first\", \"audience\", \"even\", \"set\", \"much\", \"action\", \"political\", \"carter\", \"jackie\", \"spielberg\", \"tarzan\", \"chinese\", \"gangster\", \"shakespeare\", \"ape\", \"horse\", \"jane\", \"jackie_chan\", \"united_state\", \"jackie_brown\", \"martial_art\", \"china\", \"hong_kong\", \"dvd\", \"south\", \"danny\", \"anger\", \"princess\", \"nazi\", \"develops\", \"sir\", \"brutal\", \"ambitious\", \"rocky\", \"shaw\", \"african\", \"narration\", \"election\", \"war\", \"american\", \"country\", \"frank\", \"king\", \"joe\", \"men\", \"prisoner\", \"president\", \"america\", \"leader\", \"prison\", \"action\", \"battle\", \"ii\", \"film\", \"fight\", \"white\", \"production\", \"new_york\", \"city\", \"also\", \"however\", \"story\", \"version\", \"order\", \"although\", \"new\", \"family\", \"disney\", \"truman\", \"romantic_comedy\", \"mulan\", \"gag\", \"shrek\", \"sonny\", \"roommate\", \"toy_story\", \"julie\", \"dr_evil\", \"voiced\", \"black_cauldron\", \"know_last\", \"bowfinger\", \"fairy_tale\", \"apostle\", \"big_lebowski\", \"ford\", \"parker\", \"cole\", \"tommy\", \"porter\", \"grease\", \"american_pie\", \"salesman\", \"bill_murray\", \"good_hunting\", \"taran\", \"carrey\", \"paulie\", \"high_school\", \"twin\", \"comedy\", \"bob\", \"animation\", \"scream\", \"hilarious\", \"college\", \"song\", \"funny\", \"comic\", \"joke\", \"wedding\", \"voice\", \"toy\", \"musical\", \"mary\", \"humor\", \"kid\", \"laugh\", \"dude\", \"animated\", \"family\", \"new\", \"parent\", \"child\", \"original\", \"studio\", \"friend\", \"father\"], \"Total\": [6578.0, 1634.0, 10782.0, 653.0, 716.0, 2004.0, 2384.0, 3447.0, 1551.0, 495.0, 1491.0, 1332.0, 478.0, 2843.0, 722.0, 2192.0, 823.0, 932.0, 464.0, 1082.0, 367.0, 365.0, 1921.0, 246.0, 629.0, 320.0, 300.0, 1652.0, 1974.0, 359.0, 2004.128662109375, 1551.0445556640625, 1491.3907470703125, 1332.1351318359375, 1082.754638671875, 957.7962646484375, 783.3124389648438, 783.244384765625, 736.0925903320312, 729.7154541015625, 727.7335815429688, 699.1115112304688, 694.5918579101562, 674.1458129882812, 648.40771484375, 591.77392578125, 583.4267578125, 568.6625366210938, 769.4072265625, 449.8807373046875, 447.8154296875, 444.97808837890625, 428.0475769042969, 383.2382507324219, 376.40606689453125, 344.4051818847656, 330.7190856933594, 320.6715393066406, 318.935791015625, 308.113525390625, 6578.19580078125, 2384.379638671875, 466.5738830566406, 408.66522216796875, 2843.760009765625, 507.12274169921875, 1111.267578125, 525.30126953125, 1408.766357421875, 2192.795654296875, 1299.206298828125, 1652.4217529296875, 5604.283203125, 1882.1326904296875, 807.311767578125, 10782.4990234375, 2456.57958984375, 3447.609619140625, 2163.39306640625, 2396.375732421875, 1737.42529296875, 1974.4876708984375, 1109.6124267578125, 1778.021240234375, 1057.7138671875, 1176.8382568359375, 1214.9114990234375, 1484.6278076171875, 1153.9158935546875, 1584.19287109375, 1251.6341552734375, 1921.040771484375, 242.43038940429688, 118.05541229248047, 96.64859771728516, 86.3935317993164, 75.67552185058594, 56.451541900634766, 55.490211486816406, 52.749446868896484, 51.38262176513672, 51.263404846191406, 47.54777908325195, 48.2436637878418, 47.54197692871094, 46.39860153198242, 47.74769592285156, 45.231170654296875, 45.68194580078125, 44.621341705322266, 44.22768020629883, 41.56217575073242, 42.48580551147461, 42.37211608886719, 39.92457580566406, 40.428123474121094, 41.40388488769531, 38.2192268371582, 37.783180236816406, 37.1356315612793, 36.620723724365234, 36.28878402709961, 83.78092956542969, 108.88616943359375, 64.62918090820312, 82.85650634765625, 60.23579025268555, 67.45895385742188, 1634.4091796875, 102.65232849121094, 99.62649536132812, 130.08404541015625, 446.26239013671875, 169.57846069335938, 241.89466857910156, 527.5206909179688, 823.6497802734375, 210.63563537597656, 404.4981384277344, 491.45196533203125, 189.92079162597656, 608.9954223632812, 114.18590545654297, 218.47604370117188, 107.58551025390625, 108.02862548828125, 319.35272216796875, 306.1795959472656, 130.50384521484375, 629.6837768554688, 1921.040771484375, 1084.61181640625, 173.02029418945312, 428.9957275390625, 250.0077362060547, 1090.912353515625, 251.8329315185547, 3447.609619140625, 330.6707763671875, 1119.8704833984375, 403.9906311035156, 10782.4990234375, 5604.283203125, 932.16259765625, 1031.668212890625, 565.1029052734375, 1584.19287109375, 661.5353393554688, 1323.3980712890625, 1737.42529296875, 2163.39306640625, 1149.361328125, 2456.57958984375, 920.4739990234375, 1778.021240234375, 1118.5396728515625, 495.2198181152344, 270.6247253417969, 221.46728515625, 189.2984619140625, 163.49606323242188, 149.6013946533203, 129.4749298095703, 126.01568603515625, 124.33094024658203, 110.0970687866211, 104.19257354736328, 102.28558349609375, 101.39076232910156, 90.61256408691406, 90.66389465332031, 85.30403137207031, 83.2394790649414, 82.55844116210938, 78.78048706054688, 77.15005493164062, 76.4086685180664, 73.89317321777344, 72.25455474853516, 73.04154968261719, 71.00162506103516, 70.36642456054688, 68.47728729248047, 65.7441177368164, 65.98899841308594, 67.63943481445312, 66.62688446044922, 200.060546875, 140.90403747558594, 359.1211242675781, 464.6483459472656, 103.15082550048828, 118.2926254272461, 222.03550720214844, 94.60555267333984, 99.57865905761719, 129.19451904296875, 161.3707275390625, 932.16259765625, 416.85693359375, 232.2049560546875, 10782.4990234375, 368.2131652832031, 308.8555603027344, 151.76727294921875, 915.0856323242188, 699.7635498046875, 427.4162292480469, 300.9670715332031, 5604.283203125, 230.86007690429688, 1921.040771484375, 979.791259765625, 1252.0911865234375, 1484.6278076171875, 993.3750610351562, 2192.795654296875, 725.8572387695312, 1778.021240234375, 722.807861328125, 157.04527282714844, 123.44767761230469, 111.68587493896484, 98.39999389648438, 97.51444244384766, 91.7884521484375, 83.2305908203125, 77.7005615234375, 73.72886657714844, 75.83209991455078, 71.32833862304688, 68.52597045898438, 69.19058227539062, 69.07398223876953, 67.440673828125, 62.541343688964844, 60.10835647583008, 61.25299072265625, 56.81595230102539, 54.916656494140625, 49.847110748291016, 47.771766662597656, 47.00503921508789, 48.9208869934082, 47.59086227416992, 45.9573974609375, 46.39848327636719, 49.13752365112305, 45.32582092285156, 44.51743698120117, 46.0412483215332, 45.770328521728516, 278.896484375, 365.5747375488281, 158.6388702392578, 155.8264923095703, 239.65350341796875, 181.18234252929688, 340.2021789550781, 77.00955200195312, 127.12972259521484, 208.4890594482422, 158.09036254882812, 146.82431030273438, 722.807861328125, 203.7535858154297, 104.87924194335938, 10782.4990234375, 250.86270141601562, 206.50253295898438, 198.70616149902344, 242.30520629882812, 371.8517150878906, 1974.4876708984375, 1005.2265625, 1921.040771484375, 285.0498046875, 303.1295166015625, 840.8179931640625, 915.0856323242188, 629.6837768554688, 246.990966796875, 110.36370849609375, 90.13247680664062, 88.99596405029297, 88.12433624267578, 67.5859603881836, 66.09711456298828, 63.02997970581055, 61.849098205566406, 61.615142822265625, 59.58479309082031, 51.312259674072266, 52.11261749267578, 50.6998291015625, 50.45344543457031, 47.43994903564453, 46.53936004638672, 45.7333984375, 50.00959396362305, 47.95790100097656, 45.67192077636719, 44.10329055786133, 44.25239944458008, 43.95353317260742, 42.220890045166016, 43.08386993408203, 43.13964080810547, 41.546932220458984, 42.596736907958984, 40.64849853515625, 40.85589599609375, 177.5519256591797, 49.158939361572266, 653.7308349609375, 128.456787109375, 131.6417694091797, 281.9549865722656, 211.10018920898438, 89.30934143066406, 254.278564453125, 716.4866943359375, 212.23028564453125, 300.143310546875, 103.1552963256836, 283.04541015625, 135.19241333007812, 136.69261169433594, 139.49282836914062, 320.8914489746094, 478.29913330078125, 367.56805419921875, 143.22720336914062, 108.3729476928711, 629.6837768554688, 915.0856323242188, 262.78155517578125, 491.45196533203125, 699.7635498046875, 158.351806640625, 629.5615234375, 428.9957275390625], \"loglift\": [30.0, 29.0, 28.0, 27.0, 26.0, 25.0, 24.0, 23.0, 22.0, 21.0, 20.0, 19.0, 18.0, 17.0, 16.0, 15.0, 14.0, 13.0, 12.0, 11.0, 10.0, 9.0, 8.0, 7.0, 6.0, 5.0, 4.0, 3.0, 2.0, 1.0, 0.6527000069618225, 0.6525999903678894, 0.6525999903678894, 0.6524999737739563, 0.652400016784668, 0.6523000001907349, 0.6521999835968018, 0.6521999835968018, 0.6521000266075134, 0.6521000266075134, 0.6521000266075134, 0.6520000100135803, 0.6520000100135803, 0.6520000100135803, 0.6520000100135803, 0.6518999934196472, 0.6517999768257141, 0.6517999768257141, 0.6514999866485596, 0.6514999866485596, 0.6514999866485596, 0.6514999866485596, 0.6514000296592712, 0.651199996471405, 0.6510999798774719, 0.6510000228881836, 0.6509000062942505, 0.6507999897003174, 0.6507999897003174, 0.6506999731063843, 0.6506999731063843, 0.6353999972343445, 0.650600016117096, 0.649399995803833, 0.6026999950408936, 0.6424000263214111, 0.6140999794006348, 0.640500009059906, 0.5972999930381775, 0.5655999779701233, 0.5928999781608582, 0.5740000009536743, 0.48539999127388, 0.5569000244140625, 0.608299970626831, 0.39160001277923584, 0.49230000376701355, 0.4535999894142151, 0.5033000111579895, 0.490200012922287, 0.4699999988079071, 0.435699999332428, 0.5525000095367432, 0.4392000138759613, 0.5583000183105469, 0.5249000191688538, 0.5131999850273132, 0.4440000057220459, 0.5108000040054321, 0.3889999985694885, 0.4255000054836273, 0.014499999582767487, 1.7747000455856323, 1.771399974822998, 1.7699999809265137, 1.7690000534057617, 1.767699956893921, 1.7644000053405762, 1.7640999555587769, 1.7634999752044678, 1.7630000114440918, 1.7628999948501587, 1.7619999647140503, 1.7618999481201172, 1.7615000009536743, 1.761299967765808, 1.761199951171875, 1.7611000537872314, 1.7609000205993652, 1.7608000040054321, 1.7598999738693237, 1.7596999406814575, 1.7596999406814575, 1.7595000267028809, 1.7589000463485718, 1.7589000463485718, 1.757699966430664, 1.7574000358581543, 1.7574000358581543, 1.757099986076355, 1.7568000555038452, 1.756700038909912, 1.7411999702453613, 1.7272000312805176, 1.710800051689148, 1.6832000017166138, 1.7107000350952148, 1.6964999437332153, 1.312600016593933, 1.638700008392334, 1.6306999921798706, 1.5843000411987305, 1.385599970817566, 1.5068999528884888, 1.4350999593734741, 1.2711999416351318, 1.1676000356674194, 1.4282000064849854, 1.2353999614715576, 1.1848000288009644, 1.4223999977111816, 1.1269999742507935, 1.5398000478744507, 1.3564000129699707, 1.5544999837875366, 1.5485999584197998, 1.1979000568389893, 1.2064000368118286, 1.4848999977111816, 0.9635999798774719, 0.5060999989509583, 0.7077000141143799, 1.3779000043869019, 1.0317000150680542, 1.2312999963760376, 0.6388999819755554, 1.2151000499725342, -0.03550000116229057, 1.0605000257492065, 0.41499999165534973, 0.9368000030517578, -0.892300009727478, -0.6654000282287598, 0.3833000063896179, 0.29670000076293945, 0.6805999875068665, -0.08150000125169754, 0.5378000140190125, 0.02590000070631504, -0.19020000100135803, -0.36660000681877136, 0.10329999774694443, -0.5367000102996826, 0.24070000648498535, -0.3752000033855438, 0.025200000032782555, 1.9522000551223755, 1.9509999752044678, 1.9503999948501587, 1.9498000144958496, 1.9491000175476074, 1.948699951171875, 1.9479999542236328, 1.9478000402450562, 1.947700023651123, 1.9470000267028809, 1.9465999603271484, 1.9464999437332153, 1.9464999437332153, 1.9453999996185303, 1.945099949836731, 1.9450000524520874, 1.9448000192642212, 1.9448000192642212, 1.9443000555038452, 1.944000005722046, 1.9438999891281128, 1.943600058555603, 1.94350004196167, 1.94350004196167, 1.9431999921798706, 1.9431999921798706, 1.9429999589920044, 1.9424999952316284, 1.9423999786376953, 1.9423999786376953, 1.9423999786376953, 1.9019999504089355, 1.8818000555038452, 1.7812000513076782, 1.750100016593933, 1.898900032043457, 1.882200002670288, 1.7416000366210938, 1.8933000564575195, 1.8717000484466553, 1.7838000059127808, 1.690500020980835, 1.0295000076293945, 1.3149000406265259, 1.5388000011444092, -0.23440000414848328, 1.273300051689148, 1.347100019454956, 1.6711000204086304, 0.6868000030517578, 0.7904000282287598, 1.0399999618530273, 1.184000015258789, -0.900600016117096, 1.3502999544143677, -0.2522999942302704, 0.23469999432563782, 0.00019999999494757503, -0.16120000183582306, 0.12849999964237213, -0.5812000036239624, 0.38089999556541443, -0.6197999715805054, 0.26190000772476196, 2.404900074005127, 2.4035000801086426, 2.4030001163482666, 2.402100086212158, 2.402100086212158, 2.4014999866485596, 2.400599956512451, 2.399899959564209, 2.399600028991699, 2.399600028991699, 2.398900032043457, 2.3987998962402344, 2.3987998962402344, 2.3987998962402344, 2.3984999656677246, 2.397599935531616, 2.3973000049591064, 2.3973000049591064, 2.396199941635132, 2.395699977874756, 2.3938000202178955, 2.3935999870300293, 2.3935999870300293, 2.3935000896453857, 2.3935000896453857, 2.3931000232696533, 2.3931000232696533, 2.3931000232696533, 2.3929998874664307, 2.392699956893921, 2.392699956893921, 2.392699956893921, 2.3094000816345215, 2.0736000537872314, 2.206700086593628, 2.1786000728607178, 2.0506999492645264, 2.0766000747680664, 1.7956000566482544, 2.2481000423431396, 2.0750999450683594, 1.8898999691009521, 1.9622999429702759, 1.988800048828125, 1.3092999458312988, 1.8079999685287476, 2.118499994277954, -0.6119999885559082, 1.5712000131607056, 1.690600037574768, 1.7121000289916992, 1.5816999673843384, 1.2533999681472778, 0.0568000003695488, 0.4361000061035156, -0.09880000352859497, 1.3760000467300415, 1.3061000108718872, 0.4147000014781952, 0.295199990272522, 0.6068000197410583, 2.535599946975708, 2.5318000316619873, 2.530400037765503, 2.5302999019622803, 2.530100107192993, 2.5276999473571777, 2.5269999504089355, 2.5267999172210693, 2.526700019836426, 2.526599884033203, 2.52620005607605, 2.5239999294281006, 2.5239999294281006, 2.523900032043457, 2.5237998962402344, 2.52239990234375, 2.52239990234375, 2.52239990234375, 2.5223000049591064, 2.5223000049591064, 2.5220999717712402, 2.5215001106262207, 2.5215001106262207, 2.5213000774383545, 2.5211000442504883, 2.5209999084472656, 2.520900011062622, 2.520699977874756, 2.5204999446868896, 2.520400047302246, 2.520400047302246, 2.501800060272217, 2.5032999515533447, 2.127000093460083, 2.3608999252319336, 2.353600025177002, 2.1837000846862793, 2.1928000450134277, 2.373199939727783, 2.106800079345703, 1.836400032043457, 2.115999937057495, 2.0151000022888184, 2.297300100326538, 1.9895000457763672, 2.2076001167297363, 2.2037999629974365, 2.1717000007629395, 1.8657000064849854, 1.6830999851226807, 1.749899983406067, 2.0638999938964844, 2.2067999839782715, 1.1273000240325928, 0.7024999856948853, 1.528499960899353, 1.010200023651123, 0.5748000144958496, 1.87090003490448, 0.6402000188827515, 0.9233999848365784], \"logprob\": [30.0, 29.0, 28.0, 27.0, 26.0, 25.0, 24.0, 23.0, 22.0, 21.0, 20.0, 19.0, 18.0, 17.0, 16.0, 15.0, 14.0, 13.0, 12.0, 11.0, 10.0, 9.0, 8.0, 7.0, 6.0, 5.0, 4.0, 3.0, 2.0, 1.0, -5.103499889373779, -5.359899997711182, -5.399099826812744, -5.5121002197265625, -5.7195000648498535, -5.842299938201904, -6.043499946594238, -6.043600082397461, -6.1057000160217285, -6.1143999099731445, -6.117199897766113, -6.157299995422363, -6.16379976272583, -6.193699836730957, -6.232699871063232, -6.32420015335083, -6.338399887084961, -6.364099979400635, -6.061999797821045, -6.598700046539307, -6.603300094604492, -6.6097002029418945, -6.648600101470947, -6.759300231933594, -6.777400016784668, -6.866399765014648, -6.9070000648498535, -6.937900066375732, -6.943399906158447, -6.978000164031982, -3.9168999195098877, -4.947000026702881, -6.5630998611450195, -6.696899890899658, -4.803500175476074, -6.48799991607666, -5.731900215148926, -6.454699993133545, -5.511499881744385, -5.1006999015808105, -5.596700191497803, -5.375100135803223, -4.242499828338623, -5.2621002197265625, -6.057199954986572, -3.6819000244140625, -5.060400009155273, -4.7600998878479, -5.176499843597412, -5.087200164794922, -5.428999900817871, -5.335400104522705, -5.794899940490723, -5.436800003051758, -5.836999893188477, -5.763700008392334, -5.743500232696533, -5.612299919128418, -5.797500133514404, -5.602399826049805, -5.801499843597412, -5.783999919891357, -6.093699932098389, -6.8165998458862305, -7.018099784851074, -7.131199836730957, -7.265100002288818, -7.561399936676025, -7.57889986038208, -7.630199909210205, -7.656899929046631, -7.659299850463867, -7.735499858856201, -7.7210001945495605, -7.736000061035156, -7.7606000900268555, -7.732100009918213, -7.786300182342529, -7.776599884033203, -7.80019998550415, -7.809899806976318, -7.872200012207031, -7.850299835205078, -7.8531999588012695, -7.913300037384033, -7.9008002281188965, -7.8780999183654785, -7.958399772644043, -7.96999979019165, -7.987500190734863, -8.001799583435059, -8.01099967956543, -7.189799785614014, -6.941699981689453, -7.479700088500977, -7.258900165557861, -7.55019998550415, -7.451099872589111, -4.647500038146973, -7.089099884033203, -7.126999855041504, -6.906700134277344, -5.872700214385986, -6.718900203704834, -6.4355998039245605, -5.819799900054932, -5.47790002822876, -6.5808000564575195, -6.121200084686279, -5.9770002365112305, -6.690199851989746, -5.820400238037109, -7.081500053405762, -6.616099834442139, -7.126299858093262, -7.128200054168701, -6.394999980926514, -6.428599834442139, -7.002799987792969, -5.950399875640869, -5.292500019073486, -5.662499904632568, -6.8277997970581055, -6.265999794006348, -6.606299877166748, -5.725500106811523, -6.615300178527832, -5.249300003051758, -6.497600078582764, -5.9232001304626465, -6.421000003814697, -4.965799808502197, -5.3933000564575195, -6.138400077819824, -6.123499870300293, -6.341599941253662, -6.07289981842041, -6.3267998695373535, -6.145299911499023, -6.089300155639648, -6.04640007019043, -6.208899974822998, -6.089399814605713, -6.293600082397461, -6.251200199127197, -6.314199924468994, -5.202000141143799, -5.807499885559082, -6.008500099182129, -6.165999889373779, -6.313199996948242, -6.402500152587891, -6.547699928283691, -6.574999809265137, -6.588500022888184, -6.7108001708984375, -6.766300201416016, -6.784900188446045, -6.793700218200684, -6.907199859619141, -6.906899929046631, -6.9679999351501465, -6.992700099945068, -7.000899791717529, -7.048299789428711, -7.069399833679199, -7.079100131988525, -7.11299991607666, -7.135499954223633, -7.124599933624268, -7.153200149536133, -7.162199974060059, -7.189700126647949, -7.230999946594238, -7.22730016708374, -7.202600002288818, -7.217700004577637, -6.158599853515625, -6.529300212860107, -5.694300174713135, -5.467800140380859, -6.824100017547607, -6.703800201416016, -6.214700222015381, -6.916200160980225, -6.886600017547607, -6.714000225067139, -6.58489990234375, -5.492199897766113, -6.011499881744385, -6.372700214385986, -4.3078999519348145, -6.177199840545654, -6.279200077056885, -6.6656999588012695, -5.853400230407715, -6.018099784851074, -6.26140022277832, -6.468100070953369, -5.628499984741211, -6.5671000480651855, -6.050899982452393, -6.237100124359131, -6.226399898529053, -6.217400074005127, -6.329599857330322, -6.247399806976318, -6.390999794006348, -6.495699882507324, -6.514100074768066, -5.89769983291626, -6.139800071716309, -6.240499973297119, -6.368000030517578, -6.377099990844727, -6.438199996948242, -6.536900043487549, -6.606400012969971, -6.659200191497803, -6.631100177764893, -6.692999839782715, -6.733099937438965, -6.723499774932861, -6.725200176239014, -6.7494001388549805, -6.825699806213379, -6.865699768066406, -6.84689998626709, -6.9232001304626465, -6.957600116729736, -7.056399822235107, -7.099100112915039, -7.115300178527832, -7.075500011444092, -7.103000164031982, -7.138400077819824, -7.128799915313721, -7.071499824523926, -7.152299880981445, -7.170599937438965, -7.136899948120117, -7.1427998542785645, -5.418900012969971, -5.384099960327148, -6.085899829864502, -6.131800174713135, -5.8292999267578125, -6.083099842071533, -5.734000205993652, -6.767199993133545, -6.438799858093262, -6.12939977645874, -6.333700180053711, -6.381100177764893, -5.466700077056885, -6.234300136566162, -6.587900161743164, -4.685500144958496, -6.2631001472473145, -6.3383002281188965, -6.355199813842773, -6.287300109863281, -6.18720006942749, -5.714300155639648, -6.0100998878479, -5.89739990234375, -6.33050012588501, -6.339000225067139, -6.210100173950195, -6.244999885559082, -6.307199954986572, -5.314199924468994, -6.123499870300293, -6.327499866485596, -6.340199947357178, -6.350299835205078, -6.618100166320801, -6.640999794006348, -6.688799858093262, -6.707799911499023, -6.711699962615967, -6.74560022354126, -6.897200107574463, -6.881800174713135, -6.909299850463867, -6.914299964904785, -6.97730016708374, -6.996399879455566, -7.013899803161621, -6.924600124359131, -6.966599941253662, -7.015600204467773, -7.05109977722168, -7.047800064086914, -7.054699897766113, -7.095099925994873, -7.074999809265137, -7.073800086975098, -7.111700057983398, -7.086900234222412, -7.133800029754639, -7.128699779510498, -5.678100109100342, -6.9608001708984375, -4.7494001388549805, -6.1427001953125, -6.125500202178955, -5.533699989318848, -5.814000129699707, -6.493899822235107, -5.714000225067139, -4.948400020599365, -5.885499954223633, -5.639900207519531, -6.425600051879883, -5.724100112915039, -6.244900226593018, -6.237599849700928, -6.2494001388549805, -5.722400188446045, -5.505799770355225, -5.702400207519531, -6.330900192260742, -6.466800212860107, -5.7866997718811035, -5.837600231170654, -6.259300231933594, -6.151599884033203, -6.23360013961792, -6.423500061035156, -6.273900032043457, -6.3744001388549805]}, \"token.table\": {\"Topic\": [1, 1, 3, 4, 1, 2, 3, 4, 1, 3, 2, 4, 2, 3, 1, 2, 3, 4, 1, 2, 3, 4, 4, 1, 4, 1, 2, 3, 4, 5, 4, 3, 5, 3, 5, 2, 1, 1, 3, 2, 4, 4, 5, 1, 2, 4, 1, 2, 3, 5, 1, 3, 3, 3, 4, 1, 2, 3, 5, 2, 4, 1, 2, 3, 4, 5, 1, 2, 3, 1, 5, 5, 5, 3, 3, 5, 5, 4, 2, 3, 2, 1, 5, 4, 1, 2, 3, 4, 1, 2, 3, 5, 4, 4, 1, 2, 3, 4, 5, 2, 5, 1, 2, 3, 5, 1, 5, 1, 2, 5, 3, 3, 1, 2, 3, 1, 4, 1, 3, 3, 4, 2, 3, 4, 1, 2, 5, 1, 2, 3, 2, 4, 1, 1, 2, 3, 4, 2, 5, 1, 5, 1, 2, 1, 5, 4, 1, 3, 1, 3, 4, 1, 4, 2, 5, 1, 2, 4, 1, 1, 3, 4, 1, 3, 4, 2, 1, 3, 5, 1, 2, 4, 5, 1, 2, 4, 5, 1, 3, 4, 1, 2, 3, 4, 1, 2, 3, 4, 5, 1, 2, 3, 4, 5, 2, 5, 4, 5, 1, 2, 5, 1, 5, 5, 4, 2, 1, 2, 1, 2, 2, 4, 1, 2, 1, 3, 1, 1, 5, 3, 1, 3, 4, 5, 1, 2, 4, 1, 2, 1, 2, 5, 4, 5, 1, 5, 4, 3, 5, 3, 4, 2, 5, 1, 2, 1, 2, 3, 4, 3, 4, 1, 5, 2, 2, 4, 5, 1, 2, 2, 1, 1, 2, 3, 4, 4, 4, 4, 2, 2, 4, 5, 1, 5, 5, 2, 1, 5, 1, 4, 5, 1, 5, 3, 1, 5, 2, 1, 3, 4, 1, 2, 1, 2, 3, 1, 2, 3, 5, 1, 2, 3, 5, 1, 1, 2, 5, 3, 2, 1, 2, 3, 4, 1, 2, 4, 1, 2, 3, 4, 2, 2, 4, 4, 2, 5, 1, 2, 4, 2, 1, 2, 3, 4, 1, 3, 3, 1, 2, 5, 1, 3, 1, 2, 3, 5, 2, 5, 1, 2, 4, 2, 4, 2, 1, 2, 3, 1, 2, 3, 4, 5, 1, 2, 4, 2, 3, 4, 1, 2, 3, 4, 1, 2, 3, 4, 5, 1, 3, 5, 1, 2, 1, 2, 5, 5, 5, 1, 2, 1, 2, 4, 3, 1, 3, 1, 2, 5, 1, 3, 2, 4, 5, 2, 1, 2, 3, 4, 1, 4, 4, 1, 2, 4, 3, 4, 2, 3, 4, 5, 1, 1, 3, 1, 2, 2, 3, 4, 2, 5, 5, 5, 1, 5, 1, 1, 3, 1, 2, 3, 3, 3, 3, 3, 3, 5, 1, 2, 3, 4, 5, 1, 3, 2, 1, 2, 3, 4, 5, 2, 1, 2, 5, 2, 5, 4, 4, 3, 5, 2, 4, 1, 2, 5, 1, 2, 4, 5, 1, 2, 4, 5, 5, 4, 1, 3, 3, 4, 1, 3, 3, 3, 1, 2, 3, 4, 1, 3, 5, 1, 3, 2, 1, 2, 3, 5, 5, 4, 3, 1, 1, 1, 1, 1, 2, 3, 4, 1, 3, 5, 3, 5, 5, 2, 4, 3, 5, 4, 5, 1, 2, 3, 4, 5, 4, 3, 1, 2, 3, 4, 3, 3, 4, 3, 4, 5, 5, 3, 4, 1, 1, 2, 3, 4, 2, 5, 1, 3, 1, 2, 3, 4, 5, 1, 2, 1, 2, 3, 1, 2, 1, 2, 3, 4, 5, 1, 2, 3, 1, 2, 3, 4, 3, 1, 2, 3, 5], \"Freq\": [0.9986922144889832, 0.4828392565250397, 0.18400463461875916, 0.3334219455718994, 0.8674808740615845, 0.0866614282131195, 0.013865828514099121, 0.03206472843885422, 0.9981710314750671, 0.001299701863899827, 0.991409182548523, 0.9883767366409302, 0.9920012354850769, 0.997536838054657, 0.8047657012939453, 0.07748845219612122, 0.02279072254896164, 0.09521457552909851, 0.6660180687904358, 0.10347066819667816, 0.0939561277627945, 0.13558225333690643, 0.9914117455482483, 0.4028988480567932, 0.5947554111480713, 0.13950635492801666, 0.11762300878763199, 0.02735418826341629, 0.7139443159103394, 0.9710832834243774, 0.9830058217048645, 0.2768218517303467, 0.7197368144989014, 0.16712020337581635, 0.8280046582221985, 0.9910734295845032, 0.9970659017562866, 0.9880044460296631, 0.01142201665788889, 0.9551258683204651, 0.0459195151925087, 0.9901142120361328, 0.9884106516838074, 0.17660370469093323, 0.7993641495704651, 0.018589863553643227, 0.6734616160392761, 0.1489870250225067, 0.16106705367565155, 0.016106706112623215, 0.9996011257171631, 0.9946515560150146, 0.9932358264923096, 0.45152580738067627, 0.5496835708618164, 0.3079904615879059, 0.5799820423126221, 0.07199776917695999, 0.03999876230955124, 0.8670042157173157, 0.12664106488227844, 0.3539685904979706, 0.4307030439376831, 0.10891341418027878, 0.0618826225399971, 0.04455548897385597, 0.5928123593330383, 0.334452360868454, 0.07255315780639648, 0.9990195631980896, 0.9839636087417603, 0.9735825061798096, 0.9786497354507446, 0.994792640209198, 0.155694380402565, 0.8407496809959412, 0.9910125732421875, 0.9791676998138428, 0.9884793758392334, 0.9905911087989807, 0.9902452230453491, 0.9978019595146179, 0.9840461611747742, 0.9963735342025757, 0.8191182613372803, 0.16301149129867554, 0.017403362318873405, 0.0002900560502894223, 0.16481773555278778, 0.553462028503418, 0.06511317938566208, 0.21772219240665436, 0.9913442134857178, 0.9914101362228394, 0.3065738081932068, 0.07798807322978973, 0.29850608110427856, 0.314641535282135, 0.9852880835533142, 0.14556148648262024, 0.8509747982025146, 0.7965586185455322, 0.13182765245437622, 0.03994777426123619, 0.03195821866393089, 0.336529940366745, 0.6623520851135254, 0.1743389219045639, 0.16491520404815674, 0.6549489498138428, 0.987912654876709, 0.9900354146957397, 0.8794751763343811, 0.04843486472964287, 0.07222742587327957, 0.182805135846138, 0.8131676912307739, 0.9993712306022644, 0.9973382353782654, 0.9969658851623535, 0.9833081960678101, 0.39850980043411255, 0.545785129070282, 0.051979538053274155, 0.24390780925750732, 0.7110533118247986, 0.0454743392765522, 0.28075677156448364, 0.3181909918785095, 0.4000783860683441, 0.9954448938369751, 0.9811760187149048, 0.9980422854423523, 0.655097246170044, 0.2151065617799759, 0.034764695912599564, 0.09560291469097137, 0.9925534725189209, 0.9959878325462341, 0.9984101057052612, 0.990185558795929, 0.3236614465713501, 0.6704415678977966, 0.3770233392715454, 0.6213903427124023, 0.9795439839363098, 0.18915893137454987, 0.810681164264679, 0.40471991896629333, 0.5439435839653015, 0.05180415138602257, 0.9978256821632385, 0.983169674873352, 0.9190773963928223, 0.07411914318799973, 0.2516193389892578, 0.7026351690292358, 0.04272781312465668, 0.9975526332855225, 0.9161820411682129, 0.07935076206922531, 0.004560388624668121, 0.42638346552848816, 0.5051421523094177, 0.06517963856458664, 0.992042064666748, 0.956260085105896, 0.04335375875234604, 0.9907261729240417, 0.1476931869983673, 0.44307953119277954, 0.16516226530075073, 0.24456720054149628, 0.20513024926185608, 0.47319817543029785, 0.12121333181858063, 0.19813716411590576, 0.5142254829406738, 0.05182117596268654, 0.4305143654346466, 0.7698586583137512, 0.06927893310785294, 0.11212614178657532, 0.048690009862184525, 0.5893367528915405, 0.22778640687465668, 0.11437785625457764, 0.02229398861527443, 0.045557282865047455, 0.8109776973724365, 0.002020708518102765, 0.12056893855333328, 0.04445558786392212, 0.02155422419309616, 0.976841926574707, 0.97981196641922, 0.7957568764686584, 0.20535661280155182, 0.6448932886123657, 0.20490451157093048, 0.14931026101112366, 0.5038474798202515, 0.4954732656478882, 0.9872415065765381, 0.9852147102355957, 0.9886000156402588, 0.1304873824119568, 0.86322420835495, 0.9826455116271973, 0.01719524897634983, 0.9296798706054688, 0.04980427771806717, 0.9455081224441528, 0.05394791066646576, 0.04847270995378494, 0.9500651359558105, 0.9985156655311584, 0.9994368553161621, 0.986835777759552, 0.9971230030059814, 0.9963859915733337, 0.7511500716209412, 0.24379432201385498, 0.9783058762550354, 0.9039192199707031, 0.03694983944296837, 0.058579012751579285, 0.9095087051391602, 0.08981635421514511, 0.3653215765953064, 0.5678367614746094, 0.06353418529033661, 0.03379293158650398, 0.9630985260009766, 0.28896230459213257, 0.7058259844779968, 0.9815607070922852, 0.9497125148773193, 0.04998486861586571, 0.9919400215148926, 0.9890270829200745, 0.9283732175827026, 0.061891548335552216, 0.4383867383003235, 0.5605087876319885, 0.6645268201828003, 0.11539687216281891, 0.08157365024089813, 0.139272078871727, 0.8156706094741821, 0.18293404579162598, 0.48926201462745667, 0.5110762715339661, 0.998224675655365, 0.9722418189048767, 0.7437124848365784, 0.24790415167808533, 0.9988235235214233, 0.9742211699485779, 0.9843406677246094, 0.9989919662475586, 0.2264101803302765, 0.7002919316291809, 0.07371494174003601, 0.9938588738441467, 0.9844517111778259, 0.9923245310783386, 0.9953967928886414, 0.9885654449462891, 0.1931755542755127, 0.7175092101097107, 0.08830882608890533, 0.40647250413894653, 0.5930500030517578, 0.9900163412094116, 0.9948617219924927, 0.5728632807731628, 0.4244205951690674, 0.9988349080085754, 0.6968393921852112, 0.3004337549209595, 0.9993030428886414, 0.9861966371536255, 0.9905464053153992, 0.5441169142723083, 0.45433762669563293, 0.9910600185394287, 0.1391609162092209, 0.22139236330986023, 0.6388751268386841, 0.9992685317993164, 0.9727804660797119, 0.34507882595062256, 0.6277498006820679, 0.026921043172478676, 0.9508538246154785, 0.028483416885137558, 0.01934059150516987, 0.0014065884752199054, 0.8691990971565247, 0.1144116222858429, 0.0024693156592547894, 0.013992789201438427, 0.9983003735542297, 0.4188673496246338, 0.5427063703536987, 0.03763735666871071, 0.9932397603988647, 0.9864738583564758, 0.8515905737876892, 0.09891802817583084, 0.026459554210305214, 0.023202992975711823, 0.6141648292541504, 0.3199157118797302, 0.06508313864469528, 0.7044215202331543, 0.12219557166099548, 0.14216217398643494, 0.03194655478000641, 0.9850718975067139, 0.9668071269989014, 0.023871781304478645, 0.993465781211853, 0.3010907471179962, 0.6953762769699097, 0.2792457044124603, 0.1763657182455063, 0.5408548712730408, 0.9792717099189758, 0.20364972949028015, 0.7960852980613708, 0.9238927364349365, 0.07029618322849274, 0.9966267347335815, 0.002143283374607563, 0.9959800243377686, 0.355996698141098, 0.5809668302536011, 0.06180498003959656, 0.997689962387085, 0.0022802604362368584, 0.8076394200325012, 0.11585913598537445, 0.07648952305316925, 0.9888088703155518, 0.2779960036277771, 0.7169370651245117, 0.9959251880645752, 0.002446990692988038, 0.9773844480514526, 0.9830499291419983, 0.9786185026168823, 0.9680991172790527, 0.8108786940574646, 0.17344042658805847, 0.015198388136923313, 0.3584364056587219, 0.07977395504713058, 0.2819408178329468, 0.12020733207464218, 0.15954791009426117, 0.3384161591529846, 0.2228594273328781, 0.43746480345726013, 0.6545339822769165, 0.1418919861316681, 0.19681791961193085, 0.8456032276153564, 0.0868978202342987, 0.05763448774814606, 0.009813922457396984, 0.3694790303707123, 0.07587515562772751, 0.2012341171503067, 0.33319091796875, 0.023092439398169518, 0.5473277568817139, 0.3129628598690033, 0.14004731178283691, 0.21018356084823608, 0.7881883382797241, 0.27399182319641113, 0.3577115535736084, 0.36532244086265564, 0.9800261855125427, 0.979050874710083, 0.9413439631462097, 0.05772755295038223, 0.6075906753540039, 0.3429798483848572, 0.04886540770530701, 0.9961459636688232, 0.06387326121330261, 0.9297107458114624, 0.7760831713676453, 0.1870604157447815, 0.03654203191399574, 0.9619645476341248, 0.037794679403305054, 0.9694193601608276, 0.9933441281318665, 0.9942963719367981, 0.991165816783905, 0.12958228588104248, 0.30900388956069946, 0.4618445336818695, 0.09635605663061142, 0.2831753194332123, 0.7158042788505554, 0.9838446974754333, 0.28605616092681885, 0.05448688939213753, 0.6538426876068115, 0.14283941686153412, 0.8570365309715271, 0.19123715162277222, 0.22646504640579224, 0.49822309613227844, 0.08052090555429459, 0.999147891998291, 0.9898984432220459, 0.009859546087682247, 0.32268011569976807, 0.6744910478591919, 0.986075222492218, 0.9858929514884949, 0.9768502116203308, 0.743273138999939, 0.25286611914634705, 0.9874354004859924, 0.9836589097976685, 0.9979058504104614, 0.9748427867889404, 0.9991686344146729, 0.22928570210933685, 0.7684169411659241, 0.8606849908828735, 0.11694592237472534, 0.021725131198763847, 0.9900928735733032, 0.9963318705558777, 0.9972079992294312, 0.9885541200637817, 0.297919899225235, 0.7022397518157959, 0.9240981936454773, 0.0756465494632721, 0.6589006781578064, 0.043065402656793594, 0.2928447425365448, 0.4701852798461914, 0.5277590155601501, 0.9912179112434387, 0.44912412762641907, 0.2521156966686249, 0.2080298811197281, 0.0757724791765213, 0.016532177105545998, 0.985792338848114, 0.3810436427593231, 0.486889123916626, 0.13003870844841003, 0.8225451707839966, 0.16912142932415009, 0.9909838438034058, 0.9928115606307983, 0.9976915717124939, 0.9913301467895508, 0.9932891130447388, 0.9875845313072205, 0.11793950945138931, 0.760709822177887, 0.11793950945138931, 0.2939451336860657, 0.5650278329849243, 0.0620550811290741, 0.0783853679895401, 0.22023090720176697, 0.03539425507187843, 0.09438467770814896, 0.6488946676254272, 0.9834014773368835, 0.9856386780738831, 0.15593624114990234, 0.8409419059753418, 0.9964358806610107, 0.9959350228309631, 0.0676288977265358, 0.9298973679542542, 0.997890055179596, 0.9930300116539001, 0.5278388857841492, 0.28057706356048584, 0.11035684496164322, 0.08120597898960114, 0.3789031505584717, 0.10104084014892578, 0.5115192532539368, 0.9989212155342102, 0.9886816143989563, 0.9894102811813354, 0.7495855093002319, 0.17379502952098846, 0.06347296386957169, 0.013601349666714668, 0.9859910011291504, 0.994724452495575, 0.9850932955741882, 0.999147891998291, 0.9997379779815674, 0.9996879696846008, 0.9993783235549927, 0.8496163487434387, 0.06676749140024185, 0.04423346370458603, 0.03880860656499863, 0.15480533242225647, 0.8436890244483948, 0.9749839305877686, 0.28108087182044983, 0.717495858669281, 0.9862714409828186, 0.9051793813705444, 0.08448340743780136, 0.9857403039932251, 0.9967044591903687, 0.020342180505394936, 0.9560824632644653, 0.7675833106040955, 0.15591536462306976, 0.005049890372902155, 0.029668103903532028, 0.04103035852313042, 0.9827927350997925, 0.9984233379364014, 0.2736364006996155, 0.11576924473047256, 0.2560955882072449, 0.3543240427970886, 0.9850126504898071, 0.9407481551170349, 0.05285102128982544, 0.1907821148633957, 0.22964513301849365, 0.5758793354034424, 0.9939145445823669, 0.09322455525398254, 0.9035610556602478, 0.9981790781021118, 0.8328415751457214, 0.13986213505268097, 0.011511286720633507, 0.015540236607193947, 0.21327067911624908, 0.7852238416671753, 0.9993265271186829, 0.9926773905754089, 0.21791499853134155, 0.2276001125574112, 0.04358300194144249, 0.48909813165664673, 0.024212777614593506, 0.3961929976940155, 0.6028199791908264, 0.6394216418266296, 0.28872230648994446, 0.071046844124794, 0.47783610224723816, 0.5221714377403259, 0.6679343581199646, 0.2562796473503113, 0.0035718416329473257, 0.0410761795938015, 0.03036065399646759, 0.3550882637500763, 0.24781084060668945, 0.3969264626502991, 0.9080125093460083, 0.01965855062007904, 0.06853926926851273, 0.0031878729350864887, 0.996476948261261, 0.6991285085678101, 0.1102275624871254, 0.1796301007270813, 0.011226881295442581], \"Term\": [\"acting\", \"action\", \"action\", \"action\", \"actor\", \"actor\", \"actor\", \"actor\", \"actually\", \"actually\", \"afraid\", \"african\", \"alice\", \"alien\", \"also\", \"also\", \"also\", \"also\", \"although\", \"although\", \"although\", \"although\", \"ambitious\", \"america\", \"america\", \"american\", \"american\", \"american\", \"american\", \"american_pie\", \"anger\", \"animated\", \"animated\", \"animation\", \"animation\", \"anna\", \"anyone\", \"anything\", \"anything\", \"apartment\", \"apartment\", \"ape\", \"apostle\", \"artist\", \"artist\", \"artist\", \"audience\", \"audience\", \"audience\", \"audience\", \"bad\", \"bat\", \"batman\", \"battle\", \"battle\", \"beautiful\", \"beautiful\", \"beautiful\", \"beautiful\", \"beauty\", \"beauty\", \"becomes\", \"becomes\", \"becomes\", \"becomes\", \"becomes\", \"begin\", \"begin\", \"begin\", \"better\", \"big_lebowski\", \"bill_murray\", \"black_cauldron\", \"blade\", \"bob\", \"bob\", \"bowfinger\", \"brutal\", \"bulworth\", \"cameron\", \"cameron_diaz\", \"cant\", \"carrey\", \"carter\", \"character\", \"character\", \"character\", \"character\", \"child\", \"child\", \"child\", \"child\", \"china\", \"chinese\", \"city\", \"city\", \"city\", \"city\", \"cole\", \"college\", \"college\", \"come\", \"come\", \"come\", \"come\", \"comedy\", \"comedy\", \"comic\", \"comic\", \"comic\", \"comic_book\", \"computer\", \"could\", \"could\", \"could\", \"country\", \"country\", \"course\", \"creature\", \"crew\", \"danny\", \"dark\", \"dark\", \"dark\", \"daughter\", \"daughter\", \"daughter\", \"death\", \"death\", \"death\", \"desire\", \"develops\", \"didnt\", \"director\", \"director\", \"director\", \"director\", \"disco\", \"disney\", \"dont\", \"dr_evil\", \"drug\", \"drug\", \"dude\", \"dude\", \"dvd\", \"earth\", \"earth\", \"effect\", \"effect\", \"effect\", \"either\", \"election\", \"elizabeth\", \"elizabeth\", \"emotional\", \"emotional\", \"emotional\", \"ending\", \"even\", \"even\", \"even\", \"evil\", \"evil\", \"evil\", \"exotica\", \"fact\", \"fact\", \"fairy_tale\", \"family\", \"family\", \"family\", \"family\", \"father\", \"father\", \"father\", \"father\", \"fight\", \"fight\", \"fight\", \"film\", \"film\", \"film\", \"film\", \"find\", \"find\", \"find\", \"find\", \"find\", \"first\", \"first\", \"first\", \"first\", \"first\", \"flynt\", \"ford\", \"frank\", \"frank\", \"friend\", \"friend\", \"friend\", \"funny\", \"funny\", \"gag\", \"gangster\", \"gattaca\", \"gay\", \"gay\", \"get\", \"get\", \"gift\", \"gift\", \"go\", \"go\", \"godzilla\", \"godzilla\", \"going\", \"good\", \"good_hunting\", \"gore\", \"got\", \"government\", \"government\", \"grease\", \"great\", \"great\", \"great\", \"he\", \"he\", \"heart\", \"heart\", \"heart\", \"high_school\", \"high_school\", \"hilarious\", \"hilarious\", \"hong_kong\", \"horror\", \"horror\", \"horror_film\", \"horse\", \"hospital\", \"hospital\", \"house\", \"house\", \"however\", \"however\", \"however\", \"however\", \"human\", \"human\", \"humor\", \"humor\", \"husband\", \"identify\", \"ii\", \"ii\", \"im\", \"innocence\", \"intellectual\", \"isnt\", \"jack\", \"jack\", \"jack\", \"jackie\", \"jackie_brown\", \"jackie_chan\", \"jane\", \"jewish\", \"joe\", \"joe\", \"joe\", \"joke\", \"joke\", \"julie\", \"karen\", \"kid\", \"kid\", \"kind\", \"king\", \"king\", \"know\", \"know_last\", \"knowledge\", \"laugh\", \"laugh\", \"lawyer\", \"leader\", \"leader\", \"leader\", \"least\", \"libby\", \"life\", \"life\", \"life\", \"like\", \"like\", \"like\", \"like\", \"little\", \"little\", \"little\", \"little\", \"lot\", \"love\", \"love\", \"love\", \"lucas\", \"lucy\", \"make\", \"make\", \"make\", \"make\", \"man\", \"man\", \"man\", \"many\", \"many\", \"many\", \"many\", \"marie\", \"marriage\", \"marriage\", \"martial_art\", \"mary\", \"mary\", \"men\", \"men\", \"men\", \"midnight\", \"mike\", \"mike\", \"military\", \"military\", \"minute\", \"minute\", \"monster\", \"mother\", \"mother\", \"mother\", \"movie\", \"movie\", \"much\", \"much\", \"much\", \"mulan\", \"musical\", \"musical\", \"name\", \"name\", \"narration\", \"narrator\", \"nazi\", \"nelson\", \"never\", \"never\", \"never\", \"new\", \"new\", \"new\", \"new\", \"new\", \"new_york\", \"new_york\", \"new_york\", \"novel\", \"novel\", \"novel\", \"one\", \"one\", \"one\", \"one\", \"order\", \"order\", \"order\", \"order\", \"order\", \"original\", \"original\", \"original\", \"pain\", \"pain\", \"parent\", \"parent\", \"parent\", \"parker\", \"paulie\", \"people\", \"people\", \"performance\", \"performance\", \"performance\", \"phantom_menace\", \"planet\", \"planet\", \"play\", \"play\", \"play\", \"plot\", \"plot\", \"poker\", \"political\", \"porter\", \"portrait\", \"power\", \"power\", \"power\", \"power\", \"president\", \"president\", \"princess\", \"prison\", \"prison\", \"prison\", \"prisoner\", \"prisoner\", \"production\", \"production\", \"production\", \"production\", \"really\", \"reason\", \"reason\", \"relationship\", \"relationship\", \"revelation\", \"robot\", \"rocky\", \"romantic\", \"romantic\", \"romantic_comedy\", \"roommate\", \"said\", \"salesman\", \"say\", \"scary\", \"scary\", \"scene\", \"scene\", \"scene\", \"science\", \"science_fiction\", \"scientist\", \"scifi\", \"scream\", \"scream\", \"see\", \"see\", \"sequel\", \"sequel\", \"sequel\", \"series\", \"series\", \"session\", \"set\", \"set\", \"set\", \"set\", \"set\", \"seth\", \"sex\", \"sex\", \"sex\", \"sexual\", \"sexual\", \"shakespeare\", \"shaw\", \"ship\", \"shrek\", \"simon\", \"sir\", \"sister\", \"sister\", \"sister\", \"son\", \"son\", \"son\", \"son\", \"song\", \"song\", \"song\", \"song\", \"sonny\", \"south\", \"special_effect\", \"special_effect\", \"specie\", \"spielberg\", \"star_trek\", \"star_trek\", \"star_war\", \"starship_trooper\", \"story\", \"story\", \"story\", \"story\", \"studio\", \"studio\", \"studio\", \"sure\", \"survivor\", \"sympathy\", \"take\", \"take\", \"take\", \"take\", \"taran\", \"tarzan\", \"technology\", \"thats\", \"thing\", \"think\", \"thought\", \"time\", \"time\", \"time\", \"time\", \"titanic\", \"titanic\", \"tommy\", \"toy\", \"toy\", \"toy_story\", \"tragedy\", \"tragedy\", \"trilogy\", \"truman\", \"twin\", \"twin\", \"two\", \"two\", \"two\", \"two\", \"two\", \"united_state\", \"vampire\", \"version\", \"version\", \"version\", \"version\", \"virus\", \"visuals\", \"visuals\", \"voice\", \"voice\", \"voice\", \"voiced\", \"war\", \"war\", \"watching\", \"way\", \"way\", \"way\", \"way\", \"wedding\", \"wedding\", \"well\", \"whale\", \"white\", \"white\", \"white\", \"white\", \"white\", \"wife\", \"wife\", \"without\", \"without\", \"without\", \"woman\", \"woman\", \"work\", \"work\", \"work\", \"work\", \"work\", \"world\", \"world\", \"world\", \"would\", \"would\", \"would\", \"would\", \"xfiles\", \"year\", \"year\", \"year\", \"year\"]}, \"R\": 30, \"lambda.step\": 0.01, \"plot.opts\": {\"xlab\": \"PC1\", \"ylab\": \"PC2\"}, \"topic.order\": [5, 4, 3, 1, 2]};\n",
       "\n",
       "function LDAvis_load_lib(url, callback){\n",
       "  var s = document.createElement('script');\n",
       "  s.src = url;\n",
       "  s.async = true;\n",
       "  s.onreadystatechange = s.onload = callback;\n",
       "  s.onerror = function(){console.warn(\"failed to load library \" + url);};\n",
       "  document.getElementsByTagName(\"head\")[0].appendChild(s);\n",
       "}\n",
       "\n",
       "if(typeof(LDAvis) !== \"undefined\"){\n",
       "   // already loaded: just create the visualization\n",
       "   !function(LDAvis){\n",
       "       new LDAvis(\"#\" + \"ldavis_el1197228114835275924990549768\", ldavis_el1197228114835275924990549768_data);\n",
       "   }(LDAvis);\n",
       "}else if(typeof define === \"function\" && define.amd){\n",
       "   // require.js is available: use it to load d3/LDAvis\n",
       "   require.config({paths: {d3: \"https://cdnjs.cloudflare.com/ajax/libs/d3/3.5.5/d3.min\"}});\n",
       "   require([\"d3\"], function(d3){\n",
       "      window.d3 = d3;\n",
       "      LDAvis_load_lib(\"https://cdn.rawgit.com/bmabey/pyLDAvis/files/ldavis.v1.0.0.js\", function(){\n",
       "        new LDAvis(\"#\" + \"ldavis_el1197228114835275924990549768\", ldavis_el1197228114835275924990549768_data);\n",
       "      });\n",
       "    });\n",
       "}else{\n",
       "    // require.js not available: dynamically load d3 & LDAvis\n",
       "    LDAvis_load_lib(\"https://cdnjs.cloudflare.com/ajax/libs/d3/3.5.5/d3.min.js\", function(){\n",
       "         LDAvis_load_lib(\"https://cdn.rawgit.com/bmabey/pyLDAvis/files/ldavis.v1.0.0.js\", function(){\n",
       "                 new LDAvis(\"#\" + \"ldavis_el1197228114835275924990549768\", ldavis_el1197228114835275924990549768_data);\n",
       "            })\n",
       "         });\n",
       "}\n",
       "</script>"
      ],
      "text/plain": [
       "PreparedData(topic_coordinates=              x         y  topics  cluster       Freq\n",
       "topic                                                \n",
       "4      0.217957  0.110041       1        1  52.043385\n",
       "3      0.115998  0.064912       2        1  16.900263\n",
       "2      0.029584 -0.113162       3        1  14.174899\n",
       "0     -0.088329 -0.241714       4        1   8.983899\n",
       "1     -0.275210  0.179923       5        1   7.897560, topic_info=     Category          Freq            Term         Total  loglift  logprob\n",
       "134   Default   6578.000000           movie   6578.000000  30.0000  30.0000\n",
       "112   Default   1634.000000            life   1634.000000  29.0000  29.0000\n",
       "79    Default  10782.000000            film  10782.000000  28.0000  28.0000\n",
       "493   Default    653.000000          comedy    653.000000  27.0000  27.0000\n",
       "1227  Default    716.000000           funny    716.000000  26.0000  26.0000\n",
       "95    Default   2004.000000            good   2004.000000  25.0000  25.0000\n",
       "88    Default   2384.000000             get   2384.000000  24.0000  24.0000\n",
       "24    Default   3447.000000       character   3447.000000  23.0000  23.0000\n",
       "226   Default   1551.000000            well   1551.000000  22.0000  22.0000\n",
       "857   Default    495.000000           alien    495.000000  21.0000  21.0000\n",
       "206   Default   1491.000000           thing   1491.000000  20.0000  20.0000\n",
       "166   Default   1332.000000          really   1332.000000  19.0000  19.0000\n",
       "108   Default    478.000000             kid    478.000000  18.0000  18.0000\n",
       "113   Default   2843.000000            like   2843.000000  17.0000  17.0000\n",
       "1707  Default    722.000000          action    722.000000  16.0000  16.0000\n",
       "65    Default   2192.000000            even   2192.000000  15.0000  15.0000\n",
       "1627  Default    823.000000            love    823.000000  14.0000  14.0000\n",
       "232   Default    932.000000           world    932.000000  13.0000  13.0000\n",
       "922   Default    464.000000           human    464.000000  12.0000  12.0000\n",
       "273   Default   1082.000000            know   1082.000000  11.0000  11.0000\n",
       "1245  Default    367.000000           laugh    367.000000  10.0000  10.0000\n",
       "312   Default    365.000000        american    365.000000   9.0000   9.0000\n",
       "295   Default   1921.000000           story   1921.000000   8.0000   8.0000\n",
       "502   Default    246.000000          disney    246.000000   7.0000   7.0000\n",
       "1386  Default    629.000000          family    629.000000   6.0000   6.0000\n",
       "1237  Default    320.000000           humor    320.000000   5.0000   5.0000\n",
       "1244  Default    300.000000            joke    300.000000   4.0000   4.0000\n",
       "177   Default   1652.000000             see   1652.000000   3.0000   3.0000\n",
       "3     Default   1974.000000            also   1974.000000   2.0000   2.0000\n",
       "803   Default    359.000000  special_effect    359.000000   1.0000   1.0000\n",
       "...       ...           ...             ...           ...      ...      ...\n",
       "1606   Topic5    171.142517     high_school    177.551926   2.5018  -5.6781\n",
       "8200   Topic5     47.453632            twin     49.158939   2.5033  -6.9608\n",
       "493    Topic5    433.167786          comedy    653.730835   2.1270  -4.7494\n",
       "5646   Topic5    107.538216             bob    128.456787   2.3609  -6.1427\n",
       "468    Topic5    109.410645       animation    131.641769   2.3536  -6.1255\n",
       "3824   Topic5    197.720123          scream    281.954987   2.1837  -5.5337\n",
       "5978   Topic5    149.384232       hilarious    211.100189   2.1928  -5.8140\n",
       "4373   Topic5     75.692413         college     89.309341   2.3732  -6.4939\n",
       "604    Topic5    165.108337            song    254.278564   2.1068  -5.7140\n",
       "1227   Topic5    355.011871           funny    716.486694   1.8364  -4.9484\n",
       "6590   Topic5    139.085571           comic    212.230286   2.1160  -5.8855\n",
       "1244   Topic5    177.807114            joke    300.143311   2.0151  -5.6399\n",
       "2125   Topic5     81.039185         wedding    103.155296   2.2973  -6.4256\n",
       "2370   Topic5    163.443054           voice    283.045410   1.9895  -5.7241\n",
       "1304   Topic5     97.090034             toy    135.192413   2.2076  -6.2449\n",
       "564    Topic5     97.799370         musical    136.692612   2.2038  -6.2376\n",
       "4124   Topic5     96.652527            mary    139.492828   2.1717  -6.2494\n",
       "1237   Topic5    163.724854           humor    320.891449   1.8657  -5.7224\n",
       "108    Topic5    203.314499             kid    478.299133   1.6831  -5.5058\n",
       "1245   Topic5    167.032242           laugh    367.568054   1.7499  -5.7024\n",
       "1584   Topic5     89.093605            dude    143.227203   2.0639  -6.3309\n",
       "3871   Topic5     77.772697        animated    108.372948   2.2068  -6.4668\n",
       "1386   Topic5    153.528122          family    629.683777   1.1273  -5.7867\n",
       "138    Topic5    145.899719             new    915.085632   0.7025  -5.8376\n",
       "1648   Topic5     95.701233          parent    262.781555   1.5285  -6.2593\n",
       "488    Topic5    106.590126           child    491.451965   1.0102  -6.1516\n",
       "1645   Topic5     98.192451        original    699.763550   0.5748  -6.2336\n",
       "201    Topic5     81.211494          studio    158.351807   1.8709  -6.4235\n",
       "1226   Topic5     94.313721          friend    629.561523   0.6402  -6.2739\n",
       "518    Topic5     85.302605          father    428.995728   0.9234  -6.3744\n",
       "\n",
       "[362 rows x 6 columns], token_table=       Topic      Freq          Term\n",
       "term                                \n",
       "237        1  0.998692        acting\n",
       "1707       1  0.482839        action\n",
       "1707       3  0.184005        action\n",
       "1707       4  0.333422        action\n",
       "1          1  0.867481         actor\n",
       "1          2  0.086661         actor\n",
       "1          3  0.013866         actor\n",
       "1          4  0.032065         actor\n",
       "2          1  0.998171      actually\n",
       "2          3  0.001300      actually\n",
       "10357      2  0.991409        afraid\n",
       "5371       4  0.988377       african\n",
       "3869       2  0.992001         alice\n",
       "857        3  0.997537         alien\n",
       "3          1  0.804766          also\n",
       "3          2  0.077488          also\n",
       "3          3  0.022791          also\n",
       "3          4  0.095215          also\n",
       "4          1  0.666018      although\n",
       "4          2  0.103471      although\n",
       "4          3  0.093956      although\n",
       "4          4  0.135582      although\n",
       "1323       4  0.991412     ambitious\n",
       "3577       1  0.402899       america\n",
       "3577       4  0.594755       america\n",
       "312        1  0.139506      american\n",
       "312        2  0.117623      american\n",
       "312        3  0.027354      american\n",
       "312        4  0.713944      american\n",
       "2377       5  0.971083  american_pie\n",
       "...      ...       ...           ...\n",
       "13871      3  0.992677         whale\n",
       "628        1  0.217915         white\n",
       "628        2  0.227600         white\n",
       "628        3  0.043583         white\n",
       "628        4  0.489098         white\n",
       "628        5  0.024213         white\n",
       "1007       1  0.396193          wife\n",
       "1007       2  0.602820          wife\n",
       "1010       1  0.639422       without\n",
       "1010       2  0.288722       without\n",
       "1010       3  0.071047       without\n",
       "846        1  0.477836         woman\n",
       "846        2  0.522171         woman\n",
       "308        1  0.667934          work\n",
       "308        2  0.256280          work\n",
       "308        3  0.003572          work\n",
       "308        4  0.041076          work\n",
       "308        5  0.030361          work\n",
       "232        1  0.355088         world\n",
       "232        2  0.247811         world\n",
       "232        3  0.396926         world\n",
       "233        1  0.908013         would\n",
       "233        2  0.019659         would\n",
       "233        3  0.068539         would\n",
       "233        4  0.003188         would\n",
       "8602       3  0.996477        xfiles\n",
       "632        1  0.699129          year\n",
       "632        2  0.110228          year\n",
       "632        3  0.179630          year\n",
       "632        5  0.011227          year\n",
       "\n",
       "[587 rows x 3 columns], R=30, lambda_step=0.01, plot_opts={'xlab': 'PC1', 'ylab': 'PC2'}, topic_order=[5, 4, 3, 1, 2])"
      ]
     },
     "execution_count": 17,
     "metadata": {},
     "output_type": "execute_result"
    }
   ],
   "source": [
    "import pyLDAvis\n",
    "import pyLDAvis.gensim\n",
    "\n",
    "pyLDAvis.enable_notebook()\n",
    "vis = pyLDAvis.gensim.prepare(lda_model, doc_term_matrix, dictionary)\n",
    "vis"
   ]
  },
  {
   "cell_type": "markdown",
   "metadata": {},
   "source": [
    "### Report:"
   ]
  },
  {
   "cell_type": "markdown",
   "metadata": {},
   "source": [
    "**Our approach** was to construct bigram for the terms that appear 10 or more times together in order to capture contextual meanings that can enabl us to better interpret the result. We chose to see top 5 topics for the given documents with LDA model from gensim package. We tried to interpret the result as the following based on the top-30 words for the top 3 topics:  \n",
    "**Topic 1:** (People) would like the movie (film) with even one good scene or good character (actor).  \n",
    "**Topic 2:** (People) find film (about) life story (or) love between man and woman (or) family (or) child.    \n",
    "**Topic 3:** audience (may like) film (about) alien and human (like) star_war series or horror (of) evil (or) vampire (that include) special effect and much action.  \n",
    "The subjective interpretation of the combinations of top words could be vice versa or not sufficiently related to the true data, but as long as we can get a good understanding of two possible and opposing scenarios for this case (positive or negative sentiment), we can further discuss business strategies to make positive impacts from the data. "
   ]
  },
  {
   "cell_type": "code",
   "execution_count": null,
   "metadata": {},
   "outputs": [],
   "source": []
  }
 ],
 "metadata": {
  "kernelspec": {
   "display_name": "Python 3",
   "language": "python",
   "name": "python3"
  },
  "language_info": {
   "codemirror_mode": {
    "name": "ipython",
    "version": 3
   },
   "file_extension": ".py",
   "mimetype": "text/x-python",
   "name": "python",
   "nbconvert_exporter": "python",
   "pygments_lexer": "ipython3",
   "version": "3.7.3"
  }
 },
 "nbformat": 4,
 "nbformat_minor": 2
}
